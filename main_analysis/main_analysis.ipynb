{
 "cells": [
  {
   "cell_type": "markdown",
   "metadata": {
    "collapsed": true,
    "pycharm": {
     "is_executing": true
    }
   },
   "source": [
    "# Data Programming cw 2 "
   ]
  },
  {
   "cell_type": "markdown",
   "metadata": {},
   "source": [
    "## contents\n",
    "- Introduction\n",
    "- Aims and objectives\n",
    "- 3"
   ]
  },
  {
   "cell_type": "markdown",
   "metadata": {},
   "source": [
    "## Introduction\n",
    "This is a data analysis of the academic journal frontiers"
   ]
  },
  {
   "cell_type": "markdown",
   "metadata": {},
   "source": [
    "## Aims and Objectives\n",
    "1. There is a common hypothesis in the field of neurosceince that there is a growing body of experimental results and a lack of theoretical work. We wish to test this hypothesis on the relevant neuroscience journals published by frontiers.\n",
    "2. It is common for the brain to be described as a complex system. The field of complexity science would seem to agree with this analysis. Complex systems do not have an agreed upon definition but there does seem to be a general concencus amoung scientisits concered with them that they tend to have charachteristic properties. One such property is emergent phenomena (The idea that the whole is more than the sum of its parts posing a difficulty to traditional reductionist methods of analysis). Therefore i would like to see how often this issue is cited in the literature and possibly analysi the sentiment towards it.\n",
    "3. Possibly doing a deeper dive on articles that match our criteria of interest. Such as, a sentiment analysis on the top original research articles compared to the hypothesis and theory articles."
   ]
  },
  {
   "cell_type": "markdown",
   "metadata": {},
   "source": [
    "Imports we will need"
   ]
  },
  {
   "cell_type": "code",
   "execution_count": 1,
   "metadata": {},
   "outputs": [],
   "source": [
    "from bs4 import BeautifulSoup\n",
    "from selenium import webdriver\n",
    "from selenium.webdriver.chrome.service import Service\n",
    "from selenium.webdriver.common.by import By\n",
    "from selenium.webdriver.support.wait import WebDriverWait\n",
    "from selenium.webdriver.support import expected_conditions\n",
    "from webdriver_manager.chrome import ChromeDriverManager\n",
    "import time\n",
    "import re\n",
    "import pandas as pd\n",
    "from datetime import datetime"
   ]
  },
  {
   "cell_type": "markdown",
   "metadata": {},
   "source": [
    "#### Data acquisition\n",
    "The exploratory analysis indicated more data on specific journals would likely yeild more insights and so we will begin by collecting article data from all(OR SOME???) of the neuroscience journals."
   ]
  },
  {
   "cell_type": "markdown",
   "metadata": {},
   "source": [
    "Maximising the browser window allows more content can be loaded at each scroll and therefore scraped faster as this process is quite time consuming. "
   ]
  },
  {
   "cell_type": "code",
   "execution_count": 2,
   "metadata": {},
   "outputs": [],
   "source": [
    "driver = webdriver.Chrome(service=Service(ChromeDriverManager().install()))\n",
    "aging_neuroscience = \"https://www.frontiersin.org/journals/aging-neuroscience/articles\"\n",
    "synaptic_neuroscience = \"https://www.frontiersin.org/journals/synaptic-neuroscience/articles\"\n",
    "driver.get(aging_neuroscience)\n",
    "driver.maximize_window()  # make window bigger so more content can be loaded at once for faster scraping."
   ]
  },
  {
   "cell_type": "markdown",
   "metadata": {},
   "source": [
    "Now check that the page has loaded and handle the cookies pop up."
   ]
  },
  {
   "cell_type": "code",
   "execution_count": 3,
   "metadata": {},
   "outputs": [],
   "source": [
    "wait = WebDriverWait(driver, 10)\n",
    "cookies = wait.until(expected_conditions.element_to_be_clickable((By.ID, \"onetrust-accept-btn-handler\")))\n",
    "cookies.click()"
   ]
  },
  {
   "cell_type": "markdown",
   "metadata": {},
   "source": [
    "For some reason unknown to me the old method of scrolling doesnt seem to work on these pages. To overcome this we check the height of the page at each iteration of a loop and scroll by that amount. The added sleep command gives the page time to load and means the height changes on every iteration of the loop so it can be checked. It is not a very elegant or robust solution but it works. "
   ]
  },
  {
   "cell_type": "code",
   "execution_count": 4,
   "metadata": {},
   "outputs": [],
   "source": [
    "while True:\n",
    "    previous_height = driver.execute_script(\"return document.documentElement.scrollHeight\")\n",
    "    driver.execute_script(\"window.scrollTo(0, \" + str(previous_height) + \");\")\n",
    "    time.sleep(2)\n",
    "    new_height = driver.execute_script(\"return document.documentElement.scrollHeight\")\n",
    "    if previous_height == new_height:\n",
    "        break\n",
    "\n",
    "soup = BeautifulSoup(driver.page_source, 'html.parser')"
   ]
  },
  {
   "cell_type": "markdown",
   "metadata": {},
   "source": [
    "The articles and thier corresponding data are displayed on the webpage in this \"card\" format so each article card needs to be extracted."
   ]
  },
  {
   "cell_type": "code",
   "execution_count": 5,
   "metadata": {},
   "outputs": [],
   "source": [
    "def get_article_cards(soup):\n",
    "    scraped_article_cards = soup.find_all('article', class_='CardArticle')\n",
    "    article_cards = []\n",
    "    for article_card in scraped_article_cards:\n",
    "        article_cards.append(article_card)\n",
    "    return article_cards\n",
    "\n",
    "article_cards = get_article_cards(soup)"
   ]
  },
  {
   "cell_type": "markdown",
   "metadata": {},
   "source": [
    "Now we extract the title and data for each article and organise this information in a dictionary so it can be easily converted to a pandas dataframe."
   ]
  },
  {
   "cell_type": "code",
   "execution_count": 6,
   "metadata": {},
   "outputs": [],
   "source": [
    "def get_article_metrics(article):\n",
    "    article_metrics = article.find('ul', class_='CardArticle__metrics')\n",
    "    split_metrics = article_metrics.text.split()\n",
    "    is_float = re.compile(\"^[0-9]*.[0-9]*$\")\n",
    "    keys = []\n",
    "    values = []\n",
    "    for metric in split_metrics:\n",
    "        metric = metric.replace(\",\", \"\")\n",
    "        if metric.isdigit() or is_float.match(metric):\n",
    "            values.append(float(metric))\n",
    "        else:\n",
    "            keys.append(metric)\n",
    "    return dict(zip(keys, values))\n",
    "\n",
    "\n",
    "def get_article_authors(article):\n",
    "    article_authors = article.find('ul', class_='CardArticle__authors')\n",
    "    authors = {}\n",
    "    author_index = 1\n",
    "    for author in article_authors:\n",
    "        if author != \"\\n\":\n",
    "            authors.update({author_index: author.text.strip()}) # add each author as a numbered column. Number 1 is the primary author number 2 the secondary and so on...\n",
    "            author_index = author_index + 1\n",
    "    authors.update({\"article authors\": len(authors)})\n",
    "    return authors\n",
    "\n",
    "\n",
    "def get_title(article_title):\n",
    "    title = article_title.text.replace(\"\\n\", \"\")\n",
    "    title = re.sub(' +', ' ', title)\n",
    "    return title.strip()\n",
    "\n",
    "\n",
    "def get_article_status(article):\n",
    "    article_date = article.find('p', class_='CardArticle__date')\n",
    "    status = article_date.text.strip().split()\n",
    "    return status[0]\n",
    "\n",
    "\n",
    "def get_article_date(article):\n",
    "    article_date = article.find('p', class_='CardArticle__date')\n",
    "    date_info = article_date.text.strip().split()\n",
    "    date_string = date_info[2] + date_info[3] + date_info[4]\n",
    "    date = datetime.strptime(date_string, '%d%b%Y')\n",
    "    return date\n",
    "\n",
    "\n",
    "def get_article_data(article_cards):\n",
    "    article_data = {}\n",
    "    for article in article_cards:\n",
    "        article_title = article.find('h1', class_='CardArticle__title')\n",
    "        article_type = article.find('p', class_='CardArticle__type')\n",
    "        article_journal = article.find('div', class_='CardArticle__journal__name')\n",
    "        title = get_title(article_title)\n",
    "\n",
    "        article_data[title] = {\"article type\": article_type.text,\n",
    "                               \"article date\": get_article_date(article),\n",
    "                               \"article status\": get_article_status(article),\n",
    "                               \"article journal\": article_journal.text}\n",
    "        article_data[title].update(get_article_authors(article))\n",
    "        article_data[title].update(get_article_metrics(article))\n",
    "    return article_data\n",
    "\n",
    "data = get_article_data(get_article_cards(soup))"
   ]
  },
  {
   "cell_type": "code",
   "execution_count": 7,
   "metadata": {},
   "outputs": [],
   "source": [
    "df = pd.DataFrame(data)\n",
    "df_transpose = df.transpose()\n",
    "df_describe = df_transpose.copy()"
   ]
  },
  {
   "cell_type": "code",
   "execution_count": 8,
   "metadata": {},
   "outputs": [
    {
     "data": {
      "text/plain": "                                                         article type  \\\nAmyloid beta (Aβ) accumulations and enhanced fo...  Original Research   \nAssociation of Inflammatory Bowel Disease and R...  Systematic Review   \nRole of Microglia Autophagy in Age-Related Neur...             Review   \nImpact of Glycosylated Hemoglobin on Early Neur...  Original Research   \nUrinary dysfunction in patients with vascular c...             Review   \n...                                                               ...   \nEditorial: Biomarkers to disentangle the physio...          Editorial   \nAssociation between white matter alterations an...  Systematic Review   \nThe NLRP3 inflammasome is a potential mechanism...             Review   \nEnvironmental enrichment improves declined cogn...  Original Research   \nEditorial: Improving memory deficits in Alzheim...          Editorial   \n\n                                                   article date  \\\nAmyloid beta (Aβ) accumulations and enhanced fo...   2022-12-29   \nAssociation of Inflammatory Bowel Disease and R...   2022-12-29   \nRole of Microglia Autophagy in Age-Related Neur...   2022-12-28   \nImpact of Glycosylated Hemoglobin on Early Neur...   2022-12-28   \nUrinary dysfunction in patients with vascular c...   2022-12-28   \n...                                                         ...   \nEditorial: Biomarkers to disentangle the physio...   2022-11-22   \nAssociation between white matter alterations an...   2022-11-22   \nThe NLRP3 inflammasome is a potential mechanism...   2022-11-21   \nEnvironmental enrichment improves declined cogn...   2022-11-21   \nEditorial: Improving memory deficits in Alzheim...   2022-11-21   \n\n                                                   article status  \\\nAmyloid beta (Aβ) accumulations and enhanced fo...       Accepted   \nAssociation of Inflammatory Bowel Disease and R...       Accepted   \nRole of Microglia Autophagy in Age-Related Neur...       Accepted   \nImpact of Glycosylated Hemoglobin on Early Neur...       Accepted   \nUrinary dysfunction in patients with vascular c...       Accepted   \n...                                                           ...   \nEditorial: Biomarkers to disentangle the physio...      Published   \nAssociation between white matter alterations an...      Published   \nThe NLRP3 inflammasome is a potential mechanism...       Accepted   \nEnvironmental enrichment improves declined cogn...      Published   \nEditorial: Improving memory deficits in Alzheim...      Published   \n\n                                                                    article journal  \\\nAmyloid beta (Aβ) accumulations and enhanced fo...  Frontiers in Aging Neuroscience   \nAssociation of Inflammatory Bowel Disease and R...  Frontiers in Aging Neuroscience   \nRole of Microglia Autophagy in Age-Related Neur...  Frontiers in Aging Neuroscience   \nImpact of Glycosylated Hemoglobin on Early Neur...  Frontiers in Aging Neuroscience   \nUrinary dysfunction in patients with vascular c...  Frontiers in Aging Neuroscience   \n...                                                                             ...   \nEditorial: Biomarkers to disentangle the physio...  Frontiers in Aging Neuroscience   \nAssociation between white matter alterations an...  Frontiers in Aging Neuroscience   \nThe NLRP3 inflammasome is a potential mechanism...  Frontiers in Aging Neuroscience   \nEnvironmental enrichment improves declined cogn...  Frontiers in Aging Neuroscience   \nEditorial: Improving memory deficits in Alzheim...  Frontiers in Aging Neuroscience   \n\n                                                                      1  \\\nAmyloid beta (Aβ) accumulations and enhanced fo...      Elena Daoutsali   \nAssociation of Inflammatory Bowel Disease and R...         Yinghao Xing   \nRole of Microglia Autophagy in Age-Related Neur...          Mingkai Lin   \nImpact of Glycosylated Hemoglobin on Early Neur...              Lin Han   \nUrinary dysfunction in patients with vascular c...          Panpan Zhao   \n...                                                                 ...   \nEditorial: Biomarkers to disentangle the physio...  Franca Rosa Guerini   \nAssociation between white matter alterations an...              Yao Xie   \nThe NLRP3 inflammasome is a potential mechanism...            Jiayue Li   \nEnvironmental enrichment improves declined cogn...          Ming-Zhu Ni   \nEditorial: Improving memory deficits in Alzheim...          Fushun Wang   \n\n                                                                  2  \\\nAmyloid beta (Aβ) accumulations and enhanced fo...   Barry A Pepers   \nAssociation of Inflammatory Bowel Disease and R...           Pei Li   \nRole of Microglia Autophagy in Age-Related Neur...       Hongwen Yu   \nImpact of Glycosylated Hemoglobin on Early Neur...     Zhangyan Hou   \nUrinary dysfunction in patients with vascular c...     GuiMei Zhang   \n...                                                             ...   \nEditorial: Biomarkers to disentangle the physio...  Beatrice Arosio   \nAssociation between white matter alterations an...           Le Xie   \nThe NLRP3 inflammasome is a potential mechanism...            Li Li   \nEnvironmental enrichment improves declined cogn...   Yue-Ming Zhang   \nEditorial: Improving memory deficits in Alzheim...    Ralf J. Braun   \n\n                                                                       3  \\\nAmyloid beta (Aβ) accumulations and enhanced fo...    Stavros Stamatakis   \nAssociation of Inflammatory Bowel Disease and R...          Yuanyuan Jia   \nRole of Microglia Autophagy in Age-Related Neur...            Qiuyan Xie   \nImpact of Glycosylated Hemoglobin on Early Neur...            Mingwei Ma   \nUrinary dysfunction in patients with vascular c...           Yanxin Shen   \n...                                                                  ...   \nEditorial: Biomarkers to disentangle the physio...                   NaN   \nAssociation between white matter alterations an...          Fuliang Kang   \nThe NLRP3 inflammasome is a potential mechanism...            Jiannan He   \nEnvironmental enrichment improves declined cogn...                Yun Li   \nEditorial: Improving memory deficits in Alzheim...  Valentina Echeverria   \n\n                                                                        4  \\\nAmyloid beta (Aβ) accumulations and enhanced fo...  Linda M Van Der Graaf   \nAssociation of Inflammatory Bowel Disease and R...            Kexin Zhang   \nRole of Microglia Autophagy in Age-Related Neur...              Zhiyun Xu   \nImpact of Glycosylated Hemoglobin on Early Neur...           Dongxue Ding   \nUrinary dysfunction in patients with vascular c...                Lin Shi   \n...                                                                   ...   \nEditorial: Biomarkers to disentangle the physio...                    NaN   \nAssociation between white matter alterations an...           Junlin Jiang   \nThe NLRP3 inflammasome is a potential mechanism...            Jianhong Xu   \nEnvironmental enrichment improves declined cogn...              Qi-Tao Wu   \nEditorial: Improving memory deficits in Alzheim...              Shijun Xu   \n\n                                                                  5  \\\nAmyloid beta (Aβ) accumulations and enhanced fo...  Gisela Terwindt   \nAssociation of Inflammatory Bowel Disease and R...         Ming Liu   \nRole of Microglia Autophagy in Age-Related Neur...        Pei Shang   \nImpact of Glycosylated Hemoglobin on Early Neur...      Dapeng Wang   \nUrinary dysfunction in patients with vascular c...     Zicheng Wang   \n...                                                             ...   \nEditorial: Biomarkers to disentangle the physio...              NaN   \nAssociation between white matter alterations an...         Ting Yao   \nThe NLRP3 inflammasome is a potential mechanism...     Fangping Bao   \nEnvironmental enrichment improves declined cogn...    Zhe-Zhe Zhang   \nEditorial: Improving memory deficits in Alzheim...              NaN   \n\n                                                                  6  \\\nAmyloid beta (Aβ) accumulations and enhanced fo...  David A Parfitt   \nAssociation of Inflammatory Bowel Disease and R...   Jingjing Jiang   \nRole of Microglia Autophagy in Age-Related Neur...              NaN   \nImpact of Glycosylated Hemoglobin on Early Neur...          Qi Fang   \nUrinary dysfunction in patients with vascular c...     Chunxiao Wei   \n...                                                             ...   \nEditorial: Biomarkers to disentangle the physio...              NaN   \nAssociation between white matter alterations an...          Guo Mao   \nThe NLRP3 inflammasome is a potential mechanism...              NaN   \nEnvironmental enrichment improves declined cogn...        Jing Chen   \nEditorial: Improving memory deficits in Alzheim...              NaN   \n\n                                                                     7  \\\nAmyloid beta (Aβ) accumulations and enhanced fo...  Ronald A.M Buijsen   \nAssociation of Inflammatory Bowel Disease and R...                 NaN   \nRole of Microglia Autophagy in Age-Related Neur...                 NaN   \nImpact of Glycosylated Hemoglobin on Early Neur...                 NaN   \nUrinary dysfunction in patients with vascular c...         Weijie Zhai   \n...                                                                ...   \nEditorial: Biomarkers to disentangle the physio...                 NaN   \nAssociation between white matter alterations an...            Rui Fang   \nThe NLRP3 inflammasome is a potential mechanism...                 NaN   \nEnvironmental enrichment improves declined cogn...        Bao-Ling Luo   \nEditorial: Improving memory deficits in Alzheim...                 NaN   \n\n                                                                           8  \\\nAmyloid beta (Aβ) accumulations and enhanced fo...  Willeke M.C Van Roon-Mom   \nAssociation of Inflammatory Bowel Disease and R...                       NaN   \nRole of Microglia Autophagy in Age-Related Neur...                       NaN   \nImpact of Glycosylated Hemoglobin on Early Neur...                       NaN   \nUrinary dysfunction in patients with vascular c...                    Li Sun   \n...                                                                      ...   \nEditorial: Biomarkers to disentangle the physio...                       NaN   \nAssociation between white matter alterations an...                Jianhu Fan   \nThe NLRP3 inflammasome is a potential mechanism...                       NaN   \nEnvironmental enrichment improves declined cogn...                Xue-Wei Li   \nEditorial: Improving memory deficits in Alzheim...                       NaN   \n\n                                                   article authors  \\\nAmyloid beta (Aβ) accumulations and enhanced fo...               8   \nAssociation of Inflammatory Bowel Disease and R...               6   \nRole of Microglia Autophagy in Age-Related Neur...               5   \nImpact of Glycosylated Hemoglobin on Early Neur...               6   \nUrinary dysfunction in patients with vascular c...               8   \n...                                                            ...   \nEditorial: Biomarkers to disentangle the physio...               2   \nAssociation between white matter alterations an...               9   \nThe NLRP3 inflammasome is a potential mechanism...               5   \nEnvironmental enrichment improves declined cogn...               9   \nEditorial: Improving memory deficits in Alzheim...               4   \n\n                                                               9   10  views  \nAmyloid beta (Aβ) accumulations and enhanced fo...           NaN  NaN    NaN  \nAssociation of Inflammatory Bowel Disease and R...           NaN  NaN    NaN  \nRole of Microglia Autophagy in Age-Related Neur...           NaN  NaN    NaN  \nImpact of Glycosylated Hemoglobin on Early Neur...           NaN  NaN    NaN  \nUrinary dysfunction in patients with vascular c...           NaN  NaN    NaN  \n...                                                          ...  ...    ...  \nEditorial: Biomarkers to disentangle the physio...           NaN  NaN  524.0  \nAssociation between white matter alterations an...      Dahua Wu  NaN  585.0  \nThe NLRP3 inflammasome is a potential mechanism...           NaN  NaN    NaN  \nEnvironmental enrichment improves declined cogn...  Gui-Hai Chen  NaN  713.0  \nEditorial: Improving memory deficits in Alzheim...           NaN  NaN  650.0  \n\n[176 rows x 16 columns]",
      "text/html": "<div>\n<style scoped>\n    .dataframe tbody tr th:only-of-type {\n        vertical-align: middle;\n    }\n\n    .dataframe tbody tr th {\n        vertical-align: top;\n    }\n\n    .dataframe thead th {\n        text-align: right;\n    }\n</style>\n<table border=\"1\" class=\"dataframe\">\n  <thead>\n    <tr style=\"text-align: right;\">\n      <th></th>\n      <th>article type</th>\n      <th>article date</th>\n      <th>article status</th>\n      <th>article journal</th>\n      <th>1</th>\n      <th>2</th>\n      <th>3</th>\n      <th>4</th>\n      <th>5</th>\n      <th>6</th>\n      <th>7</th>\n      <th>8</th>\n      <th>article authors</th>\n      <th>9</th>\n      <th>10</th>\n      <th>views</th>\n    </tr>\n  </thead>\n  <tbody>\n    <tr>\n      <th>Amyloid beta (Aβ) accumulations and enhanced forebrain neuronal development and neuronal network formation in cerebral organoids of Dutch-type Cerebral Amyloid Angiopathy patients</th>\n      <td>Original Research</td>\n      <td>2022-12-29</td>\n      <td>Accepted</td>\n      <td>Frontiers in Aging Neuroscience</td>\n      <td>Elena Daoutsali</td>\n      <td>Barry A Pepers</td>\n      <td>Stavros Stamatakis</td>\n      <td>Linda M Van Der Graaf</td>\n      <td>Gisela Terwindt</td>\n      <td>David A Parfitt</td>\n      <td>Ronald A.M Buijsen</td>\n      <td>Willeke M.C Van Roon-Mom</td>\n      <td>8</td>\n      <td>NaN</td>\n      <td>NaN</td>\n      <td>NaN</td>\n    </tr>\n    <tr>\n      <th>Association of Inflammatory Bowel Disease and Related Medication Exposure with Risk of Alzheimer's Disease: An Updated Meta-Analysis</th>\n      <td>Systematic Review</td>\n      <td>2022-12-29</td>\n      <td>Accepted</td>\n      <td>Frontiers in Aging Neuroscience</td>\n      <td>Yinghao Xing</td>\n      <td>Pei Li</td>\n      <td>Yuanyuan Jia</td>\n      <td>Kexin Zhang</td>\n      <td>Ming Liu</td>\n      <td>Jingjing Jiang</td>\n      <td>NaN</td>\n      <td>NaN</td>\n      <td>6</td>\n      <td>NaN</td>\n      <td>NaN</td>\n      <td>NaN</td>\n    </tr>\n    <tr>\n      <th>Role of Microglia Autophagy in Age-Related Neurodegenerative Diseases</th>\n      <td>Review</td>\n      <td>2022-12-28</td>\n      <td>Accepted</td>\n      <td>Frontiers in Aging Neuroscience</td>\n      <td>Mingkai Lin</td>\n      <td>Hongwen Yu</td>\n      <td>Qiuyan Xie</td>\n      <td>Zhiyun Xu</td>\n      <td>Pei Shang</td>\n      <td>NaN</td>\n      <td>NaN</td>\n      <td>NaN</td>\n      <td>5</td>\n      <td>NaN</td>\n      <td>NaN</td>\n      <td>NaN</td>\n    </tr>\n    <tr>\n      <th>Impact of Glycosylated Hemoglobin on Early Neurological Deterioration and Functional Outcomes in Acute Mild Ischemic Stroke Patients Treated With Intravenous Thrombolysis</th>\n      <td>Original Research</td>\n      <td>2022-12-28</td>\n      <td>Accepted</td>\n      <td>Frontiers in Aging Neuroscience</td>\n      <td>Lin Han</td>\n      <td>Zhangyan Hou</td>\n      <td>Mingwei Ma</td>\n      <td>Dongxue Ding</td>\n      <td>Dapeng Wang</td>\n      <td>Qi Fang</td>\n      <td>NaN</td>\n      <td>NaN</td>\n      <td>6</td>\n      <td>NaN</td>\n      <td>NaN</td>\n      <td>NaN</td>\n    </tr>\n    <tr>\n      <th>Urinary dysfunction in patients with vascular cognitive impairment: a review</th>\n      <td>Review</td>\n      <td>2022-12-28</td>\n      <td>Accepted</td>\n      <td>Frontiers in Aging Neuroscience</td>\n      <td>Panpan Zhao</td>\n      <td>GuiMei Zhang</td>\n      <td>Yanxin Shen</td>\n      <td>Lin Shi</td>\n      <td>Zicheng Wang</td>\n      <td>Chunxiao Wei</td>\n      <td>Weijie Zhai</td>\n      <td>Li Sun</td>\n      <td>8</td>\n      <td>NaN</td>\n      <td>NaN</td>\n      <td>NaN</td>\n    </tr>\n    <tr>\n      <th>...</th>\n      <td>...</td>\n      <td>...</td>\n      <td>...</td>\n      <td>...</td>\n      <td>...</td>\n      <td>...</td>\n      <td>...</td>\n      <td>...</td>\n      <td>...</td>\n      <td>...</td>\n      <td>...</td>\n      <td>...</td>\n      <td>...</td>\n      <td>...</td>\n      <td>...</td>\n      <td>...</td>\n    </tr>\n    <tr>\n      <th>Editorial: Biomarkers to disentangle the physiological from pathological brain aging, volume II</th>\n      <td>Editorial</td>\n      <td>2022-11-22</td>\n      <td>Published</td>\n      <td>Frontiers in Aging Neuroscience</td>\n      <td>Franca Rosa Guerini</td>\n      <td>Beatrice Arosio</td>\n      <td>NaN</td>\n      <td>NaN</td>\n      <td>NaN</td>\n      <td>NaN</td>\n      <td>NaN</td>\n      <td>NaN</td>\n      <td>2</td>\n      <td>NaN</td>\n      <td>NaN</td>\n      <td>524.0</td>\n    </tr>\n    <tr>\n      <th>Association between white matter alterations and domain-specific cognitive impairment in cerebral small vessel disease: A meta-analysis of diffusion tensor imaging</th>\n      <td>Systematic Review</td>\n      <td>2022-11-22</td>\n      <td>Published</td>\n      <td>Frontiers in Aging Neuroscience</td>\n      <td>Yao Xie</td>\n      <td>Le Xie</td>\n      <td>Fuliang Kang</td>\n      <td>Junlin Jiang</td>\n      <td>Ting Yao</td>\n      <td>Guo Mao</td>\n      <td>Rui Fang</td>\n      <td>Jianhu Fan</td>\n      <td>9</td>\n      <td>Dahua Wu</td>\n      <td>NaN</td>\n      <td>585.0</td>\n    </tr>\n    <tr>\n      <th>The NLRP3 inflammasome is a potential mechanism and therapeutic target for perioperative neurocognitive disorders</th>\n      <td>Review</td>\n      <td>2022-11-21</td>\n      <td>Accepted</td>\n      <td>Frontiers in Aging Neuroscience</td>\n      <td>Jiayue Li</td>\n      <td>Li Li</td>\n      <td>Jiannan He</td>\n      <td>Jianhong Xu</td>\n      <td>Fangping Bao</td>\n      <td>NaN</td>\n      <td>NaN</td>\n      <td>NaN</td>\n      <td>5</td>\n      <td>NaN</td>\n      <td>NaN</td>\n      <td>NaN</td>\n    </tr>\n    <tr>\n      <th>Environmental enrichment improves declined cognition induced by prenatal inflammatory exposure in aged CD-1 mice: Role of NGPF2 and PSD-95</th>\n      <td>Original Research</td>\n      <td>2022-11-21</td>\n      <td>Published</td>\n      <td>Frontiers in Aging Neuroscience</td>\n      <td>Ming-Zhu Ni</td>\n      <td>Yue-Ming Zhang</td>\n      <td>Yun Li</td>\n      <td>Qi-Tao Wu</td>\n      <td>Zhe-Zhe Zhang</td>\n      <td>Jing Chen</td>\n      <td>Bao-Ling Luo</td>\n      <td>Xue-Wei Li</td>\n      <td>9</td>\n      <td>Gui-Hai Chen</td>\n      <td>NaN</td>\n      <td>713.0</td>\n    </tr>\n    <tr>\n      <th>Editorial: Improving memory deficits in Alzheimer's disease</th>\n      <td>Editorial</td>\n      <td>2022-11-21</td>\n      <td>Published</td>\n      <td>Frontiers in Aging Neuroscience</td>\n      <td>Fushun Wang</td>\n      <td>Ralf J. Braun</td>\n      <td>Valentina Echeverria</td>\n      <td>Shijun Xu</td>\n      <td>NaN</td>\n      <td>NaN</td>\n      <td>NaN</td>\n      <td>NaN</td>\n      <td>4</td>\n      <td>NaN</td>\n      <td>NaN</td>\n      <td>650.0</td>\n    </tr>\n  </tbody>\n</table>\n<p>176 rows × 16 columns</p>\n</div>"
     },
     "metadata": {},
     "output_type": "display_data"
    }
   ],
   "source": [
    "display(df_describe)"
   ]
  },
  {
   "cell_type": "markdown",
   "metadata": {},
   "source": [
    "#### Data screening and cleaning\n",
    "Checking the data for null values shows we have a fairly comprehensive data set. Most of the null values are for the additional author columns with column 1 having no null values so every paper has at least one stated author. "
   ]
  },
  {
   "cell_type": "code",
   "execution_count": 9,
   "metadata": {},
   "outputs": [
    {
     "name": "stdout",
     "output_type": "stream",
     "text": [
      "article type         0\n",
      "article date         0\n",
      "article status       0\n",
      "article journal      0\n",
      "1                    0\n",
      "2                    1\n",
      "3                    6\n",
      "4                   16\n",
      "5                   35\n",
      "6                   55\n",
      "7                   79\n",
      "8                  106\n",
      "article authors      0\n",
      "9                  122\n",
      "10                 131\n",
      "views              106\n",
      "dtype: int64\n",
      "total = 657\n"
     ]
    }
   ],
   "source": [
    "print(df_describe.isnull().sum())\n",
    "print(\"total =\", df_describe.isnull().sum().sum())"
   ]
  },
  {
   "cell_type": "markdown",
   "metadata": {},
   "source": [
    "We will assume that articles with null values for citations and views do not have any citations and views and so we can change this to 0."
   ]
  },
  {
   "cell_type": "code",
   "execution_count": 10,
   "metadata": {},
   "outputs": [],
   "source": [
    "# CHANGE NULL VALUES FOR CITATIONS AND VIEWS TO 0"
   ]
  },
  {
   "cell_type": "code",
   "execution_count": 11,
   "metadata": {},
   "outputs": [
    {
     "data": {
      "text/plain": "<AxesSubplot:>"
     },
     "execution_count": 11,
     "metadata": {},
     "output_type": "execute_result"
    },
    {
     "data": {
      "text/plain": "<Figure size 640x480 with 1 Axes>",
      "image/png": "[encoded data removed]"
     },
     "metadata": {},
     "output_type": "display_data"
    }
   ],
   "source": [
    "df_describe['article type'].value_counts().plot(kind='bar')"
   ]
  },
  {
   "cell_type": "code",
   "execution_count": 12,
   "metadata": {},
   "outputs": [
    {
     "data": {
      "text/plain": "<AxesSubplot:>"
     },
     "execution_count": 12,
     "metadata": {},
     "output_type": "execute_result"
    },
    {
     "data": {
      "text/plain": "<Figure size 640x480 with 1 Axes>",
      "image/png": "[encoded data removed]"
     },
     "metadata": {},
     "output_type": "display_data"
    }
   ],
   "source": [
    "df_describe['article authors'].value_counts().plot(kind='bar')"
   ]
  },
  {
   "cell_type": "code",
   "execution_count": 13,
   "metadata": {},
   "outputs": [
    {
     "data": {
      "text/plain": "Lisa Perus             2\nYang Liu               2\nAlica Rogojin          2\nMarte Stine Einstad    1\nShishuai Wang          1\n                      ..\nYen-Chang Huang        1\nPeiyao Zhang           1\nYuchen Wang            1\nNingtian Ma            1\nFushun Wang            1\nName: 1, Length: 173, dtype: int64"
     },
     "execution_count": 13,
     "metadata": {},
     "output_type": "execute_result"
    }
   ],
   "source": [
    "df_describe[1].value_counts()"
   ]
  },
  {
   "cell_type": "code",
   "execution_count": 14,
   "metadata": {},
   "outputs": [
    {
     "ename": "KeyError",
     "evalue": "'citations'",
     "output_type": "error",
     "traceback": [
      "\u001B[1;31m---------------------------------------------------------------------------\u001B[0m",
      "\u001B[1;31mKeyError\u001B[0m                                  Traceback (most recent call last)",
      "\u001B[1;32mD:\\PythonProjects\\Frontiers\\lib\\site-packages\\pandas\\core\\indexes\\base.py\u001B[0m in \u001B[0;36mget_loc\u001B[1;34m(self, key, method, tolerance)\u001B[0m\n\u001B[0;32m   3360\u001B[0m             \u001B[1;32mtry\u001B[0m\u001B[1;33m:\u001B[0m\u001B[1;33m\u001B[0m\u001B[1;33m\u001B[0m\u001B[0m\n\u001B[1;32m-> 3361\u001B[1;33m                 \u001B[1;32mreturn\u001B[0m \u001B[0mself\u001B[0m\u001B[1;33m.\u001B[0m\u001B[0m_engine\u001B[0m\u001B[1;33m.\u001B[0m\u001B[0mget_loc\u001B[0m\u001B[1;33m(\u001B[0m\u001B[0mcasted_key\u001B[0m\u001B[1;33m)\u001B[0m\u001B[1;33m\u001B[0m\u001B[1;33m\u001B[0m\u001B[0m\n\u001B[0m\u001B[0;32m   3362\u001B[0m             \u001B[1;32mexcept\u001B[0m \u001B[0mKeyError\u001B[0m \u001B[1;32mas\u001B[0m \u001B[0merr\u001B[0m\u001B[1;33m:\u001B[0m\u001B[1;33m\u001B[0m\u001B[1;33m\u001B[0m\u001B[0m\n",
      "\u001B[1;32mD:\\PythonProjects\\Frontiers\\lib\\site-packages\\pandas\\_libs\\index.pyx\u001B[0m in \u001B[0;36mpandas._libs.index.IndexEngine.get_loc\u001B[1;34m()\u001B[0m\n",
      "\u001B[1;32mD:\\PythonProjects\\Frontiers\\lib\\site-packages\\pandas\\_libs\\index.pyx\u001B[0m in \u001B[0;36mpandas._libs.index.IndexEngine.get_loc\u001B[1;34m()\u001B[0m\n",
      "\u001B[1;32mpandas\\_libs\\hashtable_class_helper.pxi\u001B[0m in \u001B[0;36mpandas._libs.hashtable.PyObjectHashTable.get_item\u001B[1;34m()\u001B[0m\n",
      "\u001B[1;32mpandas\\_libs\\hashtable_class_helper.pxi\u001B[0m in \u001B[0;36mpandas._libs.hashtable.PyObjectHashTable.get_item\u001B[1;34m()\u001B[0m\n",
      "\u001B[1;31mKeyError\u001B[0m: 'citations'",
      "\nThe above exception was the direct cause of the following exception:\n",
      "\u001B[1;31mKeyError\u001B[0m                                  Traceback (most recent call last)",
      "\u001B[1;32m~\\AppData\\Local\\Temp\\ipykernel_16616\\1405674559.py\u001B[0m in \u001B[0;36m<module>\u001B[1;34m\u001B[0m\n\u001B[1;32m----> 1\u001B[1;33m \u001B[0mdf_describe\u001B[0m\u001B[1;33m[\u001B[0m\u001B[1;34m'citations'\u001B[0m\u001B[1;33m]\u001B[0m\u001B[1;33m.\u001B[0m\u001B[0mvalue_counts\u001B[0m\u001B[1;33m(\u001B[0m\u001B[1;33m)\u001B[0m\u001B[1;33m.\u001B[0m\u001B[0mplot\u001B[0m\u001B[1;33m(\u001B[0m\u001B[0mkind\u001B[0m\u001B[1;33m=\u001B[0m\u001B[1;34m'bar'\u001B[0m\u001B[1;33m,\u001B[0m \u001B[0mfigsize\u001B[0m\u001B[1;33m=\u001B[0m\u001B[1;33m(\u001B[0m\u001B[1;36m20\u001B[0m\u001B[1;33m,\u001B[0m\u001B[1;36m7\u001B[0m\u001B[1;33m)\u001B[0m\u001B[1;33m)\u001B[0m\u001B[1;33m\u001B[0m\u001B[1;33m\u001B[0m\u001B[0m\n\u001B[0m",
      "\u001B[1;32mD:\\PythonProjects\\Frontiers\\lib\\site-packages\\pandas\\core\\frame.py\u001B[0m in \u001B[0;36m__getitem__\u001B[1;34m(self, key)\u001B[0m\n\u001B[0;32m   3456\u001B[0m             \u001B[1;32mif\u001B[0m \u001B[0mself\u001B[0m\u001B[1;33m.\u001B[0m\u001B[0mcolumns\u001B[0m\u001B[1;33m.\u001B[0m\u001B[0mnlevels\u001B[0m \u001B[1;33m>\u001B[0m \u001B[1;36m1\u001B[0m\u001B[1;33m:\u001B[0m\u001B[1;33m\u001B[0m\u001B[1;33m\u001B[0m\u001B[0m\n\u001B[0;32m   3457\u001B[0m                 \u001B[1;32mreturn\u001B[0m \u001B[0mself\u001B[0m\u001B[1;33m.\u001B[0m\u001B[0m_getitem_multilevel\u001B[0m\u001B[1;33m(\u001B[0m\u001B[0mkey\u001B[0m\u001B[1;33m)\u001B[0m\u001B[1;33m\u001B[0m\u001B[1;33m\u001B[0m\u001B[0m\n\u001B[1;32m-> 3458\u001B[1;33m             \u001B[0mindexer\u001B[0m \u001B[1;33m=\u001B[0m \u001B[0mself\u001B[0m\u001B[1;33m.\u001B[0m\u001B[0mcolumns\u001B[0m\u001B[1;33m.\u001B[0m\u001B[0mget_loc\u001B[0m\u001B[1;33m(\u001B[0m\u001B[0mkey\u001B[0m\u001B[1;33m)\u001B[0m\u001B[1;33m\u001B[0m\u001B[1;33m\u001B[0m\u001B[0m\n\u001B[0m\u001B[0;32m   3459\u001B[0m             \u001B[1;32mif\u001B[0m \u001B[0mis_integer\u001B[0m\u001B[1;33m(\u001B[0m\u001B[0mindexer\u001B[0m\u001B[1;33m)\u001B[0m\u001B[1;33m:\u001B[0m\u001B[1;33m\u001B[0m\u001B[1;33m\u001B[0m\u001B[0m\n\u001B[0;32m   3460\u001B[0m                 \u001B[0mindexer\u001B[0m \u001B[1;33m=\u001B[0m \u001B[1;33m[\u001B[0m\u001B[0mindexer\u001B[0m\u001B[1;33m]\u001B[0m\u001B[1;33m\u001B[0m\u001B[1;33m\u001B[0m\u001B[0m\n",
      "\u001B[1;32mD:\\PythonProjects\\Frontiers\\lib\\site-packages\\pandas\\core\\indexes\\base.py\u001B[0m in \u001B[0;36mget_loc\u001B[1;34m(self, key, method, tolerance)\u001B[0m\n\u001B[0;32m   3361\u001B[0m                 \u001B[1;32mreturn\u001B[0m \u001B[0mself\u001B[0m\u001B[1;33m.\u001B[0m\u001B[0m_engine\u001B[0m\u001B[1;33m.\u001B[0m\u001B[0mget_loc\u001B[0m\u001B[1;33m(\u001B[0m\u001B[0mcasted_key\u001B[0m\u001B[1;33m)\u001B[0m\u001B[1;33m\u001B[0m\u001B[1;33m\u001B[0m\u001B[0m\n\u001B[0;32m   3362\u001B[0m             \u001B[1;32mexcept\u001B[0m \u001B[0mKeyError\u001B[0m \u001B[1;32mas\u001B[0m \u001B[0merr\u001B[0m\u001B[1;33m:\u001B[0m\u001B[1;33m\u001B[0m\u001B[1;33m\u001B[0m\u001B[0m\n\u001B[1;32m-> 3363\u001B[1;33m                 \u001B[1;32mraise\u001B[0m \u001B[0mKeyError\u001B[0m\u001B[1;33m(\u001B[0m\u001B[0mkey\u001B[0m\u001B[1;33m)\u001B[0m \u001B[1;32mfrom\u001B[0m \u001B[0merr\u001B[0m\u001B[1;33m\u001B[0m\u001B[1;33m\u001B[0m\u001B[0m\n\u001B[0m\u001B[0;32m   3364\u001B[0m \u001B[1;33m\u001B[0m\u001B[0m\n\u001B[0;32m   3365\u001B[0m         \u001B[1;32mif\u001B[0m \u001B[0mis_scalar\u001B[0m\u001B[1;33m(\u001B[0m\u001B[0mkey\u001B[0m\u001B[1;33m)\u001B[0m \u001B[1;32mand\u001B[0m \u001B[0misna\u001B[0m\u001B[1;33m(\u001B[0m\u001B[0mkey\u001B[0m\u001B[1;33m)\u001B[0m \u001B[1;32mand\u001B[0m \u001B[1;32mnot\u001B[0m \u001B[0mself\u001B[0m\u001B[1;33m.\u001B[0m\u001B[0mhasnans\u001B[0m\u001B[1;33m:\u001B[0m\u001B[1;33m\u001B[0m\u001B[1;33m\u001B[0m\u001B[0m\n",
      "\u001B[1;31mKeyError\u001B[0m: 'citations'"
     ]
    }
   ],
   "source": [
    "df_describe['citations'].value_counts().plot(kind='bar', figsize=(20,7))"
   ]
  },
  {
   "cell_type": "code",
   "execution_count": null,
   "metadata": {},
   "outputs": [],
   "source": []
  },
  {
   "cell_type": "code",
   "execution_count": null,
   "metadata": {},
   "outputs": [],
   "source": []
  }
 ],
 "metadata": {
  "kernelspec": {
   "display_name": "Python 3 (ipykernel)",
   "language": "python",
   "name": "python3"
  },
  "language_info": {
   "codemirror_mode": {
    "name": "ipython",
    "version": 3
   },
   "file_extension": ".py",
   "mimetype": "text/x-python",
   "name": "python",
   "nbconvert_exporter": "python",
   "pygments_lexer": "ipython3",
   "version": "3.7.2"
  }
 },
 "nbformat": 4,
 "nbformat_minor": 1
}
