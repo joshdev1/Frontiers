{
 "cells": [
  {
   "cell_type": "markdown",
   "metadata": {
    "collapsed": true,
    "pycharm": {
     "is_executing": true
    }
   },
   "source": [
    "# Data Programming cw 2 "
   ]
  },
  {
   "cell_type": "markdown",
   "metadata": {},
   "source": [
    "#### contents\n",
    "- 1\n",
    "- 2\n",
    "- 3\n",
    "etc..."
   ]
  },
  {
   "cell_type": "markdown",
   "metadata": {},
   "source": [
    "Imports we will need"
   ]
  },
  {
   "cell_type": "code",
   "execution_count": 1,
   "metadata": {},
   "outputs": [],
   "source": [
    "from bs4 import BeautifulSoup\n",
    "from selenium import webdriver\n",
    "from selenium.webdriver.chrome.service import Service\n",
    "from selenium.webdriver.common.by import By\n",
    "from selenium.webdriver.support.wait import WebDriverWait\n",
    "from selenium.webdriver.support import expected_conditions\n",
    "from webdriver_manager.chrome import ChromeDriverManager\n",
    "import time"
   ]
  },
  {
   "cell_type": "markdown",
   "metadata": {},
   "source": [
    "we need to gather some more data.\n",
    "This time we maximise the window so more content can be loaded and scraped faster. "
   ]
  },
  {
   "cell_type": "code",
   "execution_count": 2,
   "metadata": {},
   "outputs": [],
   "source": [
    "driver = webdriver.Chrome(service=Service(ChromeDriverManager().install()))\n",
    "aging_neuroscience = \"https://www.frontiersin.org/journals/aging-neuroscience/articles\"\n",
    "synaptic_neuroscience = \"https://www.frontiersin.org/journals/synaptic-neuroscience/articles\"\n",
    "driver.get(synaptic_neuroscience)\n",
    "driver.maximize_window()  # make window bigger so more content can be loaded at once for faster scraping."
   ]
  },
  {
   "cell_type": "markdown",
   "metadata": {},
   "source": [
    "Now check that the page has loaded and the cookies have been accepted."
   ]
  },
  {
   "cell_type": "code",
   "execution_count": 3,
   "metadata": {},
   "outputs": [],
   "source": [
    "wait = WebDriverWait(driver, 10)\n",
    "cookies = wait.until(expected_conditions.element_to_be_clickable((By.ID, \"onetrust-accept-btn-handler\")))\n",
    "cookies.click()"
   ]
  },
  {
   "cell_type": "markdown",
   "metadata": {},
   "source": [
    "For some reason the old method od scrolling doesnt seem to work on these pages. To overcome this we check the height of the page at each iteration of a loop and scroll by that amount. The added sleep command gives the page time to load and means the height changes on every iteration of the loop so it can be checked. It is not a very elegant or robust solution but it works. "
   ]
  },
  {
   "cell_type": "code",
   "execution_count": 4,
   "metadata": {},
   "outputs": [],
   "source": [
    "while True:\n",
    "    previous_height = driver.execute_script(\"return document.documentElement.scrollHeight\")\n",
    "    driver.execute_script(\"window.scrollTo(0, \" + str(previous_height) + \");\")\n",
    "    time.sleep(1)\n",
    "    new_height = driver.execute_script(\"return document.documentElement.scrollHeight\")\n",
    "    if previous_height == new_height:\n",
    "        break\n",
    "\n",
    "soup = BeautifulSoup(driver.page_source, 'html.parser')"
   ]
  },
  {
   "cell_type": "code",
   "execution_count": 15,
   "metadata": {},
   "outputs": [],
   "source": [
    "def get_article_cards(soup):\n",
    "    scraped_article_cards = soup.find_all('article', class_='CardArticle')\n",
    "    article_cards = []\n",
    "    for article_card in scraped_article_cards:\n",
    "        article_cards.append(article_card)\n",
    "    return article_cards\n",
    "\n",
    "\n",
    "article_cards = get_article_cards(soup)\n"
   ]
  },
  {
   "cell_type": "code",
   "execution_count": 27,
   "metadata": {},
   "outputs": [
    {
     "name": "stdout",
     "output_type": "stream",
     "text": [
      "<article class=\"CardArticle CardArticle--hasImg CardArticle--hasMetrics\"><a class=\"CardArticle__wrapper\" data-event=\"cardArticle-a-103389/fnsyn20221023256\" href=\"https://www.frontiersin.org/articles/10.3389/fnsyn.2022.1023256\"><div class=\"CardArticle__info\"><div class=\"CardArticle__header\"><p class=\"CardArticle__type\">Mini Review</p> <p class=\"CardArticle__date\">\n",
      "          Published on 05 Dec 2022\n",
      "        </p></div> <h1 class=\"CardArticle__title\">Diverse organization of voltage-gated calcium channels at presynaptic active zones</h1> <!-- --> <ul class=\"CardArticle__authors\"><li>Weijia Zhang</li><li>He-Hai Jiang</li><li>Fujun Luo</li></ul> <div class=\"CardArticle__spacer\"></div> <figure class=\"CardArticle__mask\"><img alt=\"Diverse organization of voltage-gated calcium channels at presynaptic active zones\" class=\"CardArticle__mask__img\" src=\"https://www.frontiersin.org/files/myhome article library/1023256/1023256_Thumb_400.jpg\"/></figure> <div class=\"CardArticle__journal\"><div class=\"CardArticle__journal__name\">Frontiers in Synaptic Neuroscience</div> <div class=\"CardArticle__journal__doi\">doi 10.3389/fnsyn.2022.1023256</div></div></div> <ul class=\"CardArticle__metrics\"><li class=\"CardArticle__metrics__item\"><strong>249</strong> views\n",
      "      </li> <!-- --></ul></a></article>\n"
     ]
    }
   ],
   "source": [
    "print(article_cards[6])"
   ]
  },
  {
   "cell_type": "code",
   "execution_count": 24,
   "metadata": {},
   "outputs": [],
   "source": [
    "#article_type = article.find('p', class_='CardArticle__type')\n",
    "#article_date = article.find('p', class_='CardArticle__date')\n",
    "\n",
    "def get_article_data(article_cards):\n",
    "    article_data = []\n",
    "    for article in article_cards:\n",
    "        article_title = article.find('h1', class_='CardArticle__title')\n",
    "        article_data.append(article_title.text)\n",
    "    return article_data"
   ]
  },
  {
   "cell_type": "code",
   "execution_count": 26,
   "metadata": {},
   "outputs": [
    {
     "name": "stdout",
     "output_type": "stream",
     "text": [
      "GRIN2B-related Neurodevelopmental Disorder: Current Understanding of Pathophysiological Mechanisms\n"
     ]
    }
   ],
   "source": [
    "article_data = get_article_data(article_cards)\n",
    "\n",
    "print(article_data[1])"
   ]
  },
  {
   "cell_type": "code",
   "execution_count": null,
   "metadata": {},
   "outputs": [],
   "source": []
  }
 ],
 "metadata": {
  "kernelspec": {
   "display_name": "Python 3 (ipykernel)",
   "language": "python",
   "name": "python3"
  },
  "language_info": {
   "codemirror_mode": {
    "name": "ipython",
    "version": 3
   },
   "file_extension": ".py",
   "mimetype": "text/x-python",
   "name": "python",
   "nbconvert_exporter": "python",
   "pygments_lexer": "ipython3",
   "version": "3.7.2"
  }
 },
 "nbformat": 4,
 "nbformat_minor": 1
}
