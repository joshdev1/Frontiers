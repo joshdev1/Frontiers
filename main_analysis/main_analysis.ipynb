{
 "cells": [
  {
   "cell_type": "markdown",
   "metadata": {
    "collapsed": true,
    "pycharm": {
     "is_executing": true
    }
   },
   "source": [
    "# Data Programming cw 2 "
   ]
  },
  {
   "cell_type": "markdown",
   "metadata": {},
   "source": [
    "## contents\n",
    "- Introduction\n",
    "- Aims and objectives\n",
    "- Data acquisition\n",
    "- Saving the dataset\n",
    "- Data screening and cleaning\n",
    "- High level look at the data and descriptive statistics\n",
    "- Analysis\n",
    "- Results\n",
    "- Conclusion and discussion"
   ]
  },
  {
   "cell_type": "markdown",
   "metadata": {},
   "source": [
    "## Introduction\n",
    "This is a data analysis of the academic journal frontiers. The analysis of the journal metadata in the previous coursework indicated that more insights are likely to be obtained from looking at specific journals and the articles they contain. "
   ]
  },
  {
   "cell_type": "markdown",
   "metadata": {},
   "source": [
    "## Aims and Objectives\n",
    "1. There is a common hypothesis in the field of neurosceince that there is a growing body of experimental results and a lack of theoretical work to help interpret and consolidate these experimental findings. This hypothesis can be tested on the relevant neuroscience journals published by frontiers.\n",
    "\n",
    "2. It is common for the brain to be described as a complex system. Complex systems do not have an agreed upon definition but there does seem to be a general concensus amoung scientisits concered with them that they tend to have charachteristic properties. One such property is emergence, the idea that the whole is more than the sum of its parts, which is a difficulty problem to address with traditional reductionist methods. Therefore i would like to see how often this issue is cited in the literature and possibly analyse the sentiment towards it. My Hypothesis would be that there is likley a neutral or negative sentiment indicating a lack of drive to approach the problem and using it to explain away eroneuos results in experimental data etc.\n",
    "\n",
    "3. Possibly doing a deeper dive on articles that match our criteria of interest. Such as, a sentiment analysis on the top original research articles compared to the hypothesis and theory articles."
   ]
  },
  {
   "cell_type": "markdown",
   "metadata": {},
   "source": [
    "# TODO\n",
    "#### Basic\n",
    "- Add screening and cleaning data code.\n",
    "- mention creative commons licnece\n",
    "- handel 404 error codes\n",
    "- show evidence of data validation\n",
    "1. descriptive statistics    \n",
    "2. extract the most cited papers and their corresponding article type.\n",
    "#### Most common words finder \n",
    "1. extracting most common words in article titles.\n",
    "    - Another representation can be count the number of times each word appears in a document. The most popular approach is           using the Term Frequency-Inverse Document Frequency (TF-IDF) technique.\n",
    "    - from this article https://towardsdatascience.com/machine-learning-text-processing-1d5a2d638958\n",
    "    - from the same article \"To get the frequency distribution of the words in the text, we can utilize the nltk.FreqDist()\"\n",
    "#### Take a closer look at the hypothesis and theory articles.\n",
    "1. opening articles and retreiving the text for analysis.\n",
    "    - How many of the articles mention complexity, emergence, self organisation etc\n",
    "2. analysing and comparing article text.\n",
    "    - e.g article text similarity\n",
    "    - Article sentiment."
   ]
  },
  {
   "cell_type": "markdown",
   "metadata": {},
   "source": [
    "Imports we will need"
   ]
  },
  {
   "cell_type": "code",
   "execution_count": 117,
   "metadata": {
    "pycharm": {
     "is_executing": true
    }
   },
   "outputs": [],
   "source": [
    "from bs4 import BeautifulSoup\n",
    "from selenium import webdriver\n",
    "from selenium.webdriver.chrome.service import Service\n",
    "from selenium.webdriver.common.by import By\n",
    "from selenium.webdriver.support.wait import WebDriverWait\n",
    "from selenium.webdriver.support import expected_conditions\n",
    "from webdriver_manager.chrome import ChromeDriverManager\n",
    "import time\n",
    "import re\n",
    "import pandas as pd\n",
    "from datetime import datetime\n",
    "import matplotlib.pyplot as plt\n",
    "import seaborn as sns\n",
    "import nltk\n",
    "from nltk import FreqDist \n",
    "from nltk.tokenize import word_tokenize\n",
    "from nltk.corpus import stopwords"
   ]
  },
  {
   "cell_type": "markdown",
   "metadata": {},
   "source": [
    "## Data acquisition\n",
    "The exploratory analysis indicated more data on specific journals would likely yeild more insights and so we will begin by collecting article data from all of the neuroscience journals identified in our exploratory analysis."
   ]
  },
  {
   "cell_type": "code",
   "execution_count": null,
   "metadata": {
    "pycharm": {
     "is_executing": true
    }
   },
   "outputs": [],
   "source": [
    "aging = \"https://www.frontiersin.org/journals/aging-neuroscience/articles\"\n",
    "behavioural = \"https://www.frontiersin.org/journals/behavioral-neuroscience/articles\"\n",
    "cellular = \"https://www.frontiersin.org/journals/cellular-neuroscience/articles\"\n",
    "computational = \"https://www.frontiersin.org/journals/computational-neuroscience/articles\"\n",
    "evolutionary = \"https://www.frontiersin.org/journals/evolutionary-neuroscience/articles\"\n",
    "human = \"https://www.frontiersin.org/journals/human-neuroscience/articles\"\n",
    "integrative = \"https://www.frontiersin.org/journals/integrative-neuroscience/articles\"\n",
    "molecular = \"https://www.frontiersin.org/journals/molecular-neuroscience/articles\"\n",
    "neuroanatomy = \"https://www.frontiersin.org/journals/neuroanatomy/articles\"\n",
    "neuroenergetics = \"https://www.frontiersin.org/journals/neuroenergetics/articles\"\n",
    "neuroengineering = \"https://www.frontiersin.org/journals/neuroengineering/articles\"\n",
    "neuroergonomics = \"https://www.frontiersin.org/journals/neuroergonomics/articles\"\n",
    "neuroimaging = \"https://www.frontiersin.org/journals/neuroimaging/articles\"\n",
    "neuroinformatics = \"https://www.frontiersin.org/journals/neuroinformatics/articles\"\n",
    "neurology = \"https://www.frontiersin.org/journals/neurology/articles\"\n",
    "neurorobotics = \"https://www.frontiersin.org/journals/neurorobotics/articles\"\n",
    "neuroscience = \"https://www.frontiersin.org/journals/neuroscience/articles\"\n",
    "synaptic = \"https://www.frontiersin.org/journals/synaptic-neuroscience/articles\"\n",
    "systems = \"https://www.frontiersin.org/journals/systems-neuroscience/articles\"\n",
    "\n",
    "# journals = [aging, behavioural, cellular, computational, evolutionary, human, integrative, molecular,\n",
    "#             neuroanatomy, neuroenergetics, neuroengineering, neuroergonomics, neuroimaging, neuroinformatics,\n",
    "#             neurology, neurorobotics, neuroscience, synaptic, systems]\n",
    "\n",
    "journals = [evolutionary, neuroimaging]\n",
    "soup = []"
   ]
  },
  {
   "cell_type": "markdown",
   "metadata": {},
   "source": [
    "Handle the cookies popup"
   ]
  },
  {
   "cell_type": "code",
   "execution_count": null,
   "metadata": {
    "pycharm": {
     "is_executing": true
    }
   },
   "outputs": [],
   "source": [
    "def handle_cookies(driver):\n",
    "    wait = WebDriverWait(driver, 10)\n",
    "    cookies = wait.until(expected_conditions.element_to_be_clickable((By.ID, \"onetrust-accept-btn-handler\")))\n",
    "    cookies.click()"
   ]
  },
  {
   "cell_type": "markdown",
   "metadata": {},
   "source": [
    "For some reason unknown to me the old method of scrolling doesnt seem to work on these pages. To overcome this we check the height of the page at each iteration of a loop and scroll by that amount. The added sleep command gives the page time to load and means the height changes on every iteration of the loop so it can be checked. It is not a very elegant or robust solution but it works."
   ]
  },
  {
   "cell_type": "code",
   "execution_count": null,
   "metadata": {
    "pycharm": {
     "is_executing": true
    }
   },
   "outputs": [],
   "source": [
    "def scroll_page(driver):\n",
    "    previous_height = driver.execute_script(\"return document.documentElement.scrollHeight\")\n",
    "    driver.execute_script(\"window.scrollTo(0, \" + str(previous_height) + \");\")\n",
    "    time.sleep(2)\n",
    "    new_height = driver.execute_script(\"return document.documentElement.scrollHeight\")\n",
    "    return previous_height, new_height"
   ]
  },
  {
   "cell_type": "markdown",
   "metadata": {},
   "source": [
    "#### NOTE: This can take over an hour for all the journals so this demo is with a smaller subset and the full dataset is imported later in the notebook.\n",
    "\n",
    "Now loop through all journals and extract data. Each journal object containing the article data is added to the list soup. The while loop runs until the article page of that journal cannot be scrolled any more and then trys to scroll again two more times before perfomring a final check and breaking if the endo of the journal has been reached.   "
   ]
  },
  {
   "cell_type": "code",
   "execution_count": null,
   "metadata": {
    "pycharm": {
     "is_executing": true
    }
   },
   "outputs": [],
   "source": [
    "driver = webdriver.Chrome(service=Service(ChromeDriverManager().install()))\n",
    "\n",
    "for journal in journals:\n",
    "    driver.get(journal)\n",
    "    driver.maximize_window()  # make window bigger so more content can be loaded at once for faster scraping.\n",
    "    \n",
    "    if journals[0] == journal:\n",
    "        handle_cookies(driver)\n",
    "\n",
    "    while True:\n",
    "        previous_height, new_height = scroll_page(driver)\n",
    "        if previous_height == new_height: # check the page cant be scrolled any more\n",
    "            for i in range(2):\n",
    "                scroll_page(driver)\n",
    "            _, new_height_check = scroll_page(driver)    \n",
    "            if previous_height == new_height_check: # finally check the page height and break if its not changing\n",
    "                break\n",
    "\n",
    "    soup.append(BeautifulSoup(driver.page_source, 'html.parser'))"
   ]
  },
  {
   "cell_type": "markdown",
   "metadata": {},
   "source": [
    "Check the correct number of journals have been scraped"
   ]
  },
  {
   "cell_type": "code",
   "execution_count": null,
   "metadata": {
    "pycharm": {
     "is_executing": true
    }
   },
   "outputs": [],
   "source": [
    "print(\"Journals scraped =\", len(soup))"
   ]
  },
  {
   "cell_type": "markdown",
   "metadata": {},
   "source": [
    "Now extract the article data. The only function that is maybe not self explanatory is the first one \"get_article_cards\". The article data is displayed on the webpage in this \"card\" format and so each html class \"CardArticle\" contains all of the article information we are collecting. once these article cards have been obtained they can be passed through the rest of the functions to extract the relevant data. This data is stored in dictionaries and eventually converted into a single dataframe that contains all journals and thier respective articles with the corresponding data displayed in each row with the article title being the index. This can be seen in the next few cells. "
   ]
  },
  {
   "cell_type": "code",
   "execution_count": null,
   "metadata": {
    "pycharm": {
     "is_executing": true
    }
   },
   "outputs": [],
   "source": [
    "def get_article_cards(soup):\n",
    "    scraped_article_cards = soup.find_all('article', class_='CardArticle')\n",
    "    article_cards = []\n",
    "    for article_card in scraped_article_cards:\n",
    "        article_cards.append(article_card)\n",
    "    return article_cards\n",
    "\n",
    "\n",
    "def get_article_metrics(article):\n",
    "    article_metrics = article.find('ul', class_='CardArticle__metrics')\n",
    "    split_metrics = article_metrics.text.split()\n",
    "    is_float = re.compile(\"^[0-9]*.[0-9]*$\")\n",
    "    keys = []\n",
    "    values = []\n",
    "    for metric in split_metrics:\n",
    "        metric = metric.replace(\",\", \"\")\n",
    "        if metric.isdigit() or is_float.match(metric):\n",
    "            values.append(float(metric))\n",
    "        else:\n",
    "            keys.append(metric)\n",
    "    return dict(zip(keys, values))\n",
    "\n",
    "\n",
    "def get_article_authors(article):\n",
    "    article_authors = article.find('ul', class_='CardArticle__authors')\n",
    "    authors = {}\n",
    "    author_index = 1\n",
    "    for author in article_authors:\n",
    "        if author != \"\\n\":\n",
    "            authors.update({author_index: author.text.strip()}) # add each author as a numbered column. Number 1 is the primary author number 2 the secondary and so on...\n",
    "            author_index = author_index + 1\n",
    "    authors.update({\"article authors\": len(authors)})\n",
    "    return authors\n",
    "\n",
    "\n",
    "def get_title(article_title):\n",
    "    title = article_title.text.replace(\"\\n\", \"\")\n",
    "    title = re.sub(' +', ' ', title)\n",
    "    return title.strip()\n",
    "\n",
    "\n",
    "def get_article_status(article):\n",
    "    article_date = article.find('p', class_='CardArticle__date')\n",
    "    status = article_date.text.strip().split()\n",
    "    return status[0]\n",
    "\n",
    "\n",
    "def get_article_date(article):\n",
    "    article_date = article.find('p', class_='CardArticle__date')\n",
    "    date_info = article_date.text.strip().split()\n",
    "    date_string = date_info[2] + date_info[3] + date_info[4]\n",
    "    date = datetime.strptime(date_string, '%d%b%Y')\n",
    "    return date\n",
    "\n",
    "\n",
    "def get_article_data(article_cards):\n",
    "    article_data = {}\n",
    "    for article in article_cards:\n",
    "        article_title = article.find('h1', class_='CardArticle__title')\n",
    "        article_type = article.find('p', class_='CardArticle__type')\n",
    "        article_journal = article.find('div', class_='CardArticle__journal__name')\n",
    "        title = get_title(article_title)\n",
    "\n",
    "        article_data[title] = {\"article type\": article_type.text,\n",
    "                               \"article date\": get_article_date(article),\n",
    "                               \"article status\": get_article_status(article),\n",
    "                               \"article journal\": article_journal.text}\n",
    "        article_data[title].update(get_article_authors(article))\n",
    "        article_data[title].update(get_article_metrics(article))\n",
    "    return article_data\n",
    "\n",
    "dataset = {}\n",
    "for journal in range(len(soup)):\n",
    "    article_cards = get_article_cards(soup[journal])\n",
    "    dataset.update(get_article_data(get_article_cards(soup[journal])))"
   ]
  },
  {
   "cell_type": "code",
   "execution_count": null,
   "metadata": {
    "pycharm": {
     "is_executing": true
    }
   },
   "outputs": [],
   "source": [
    "df = pd.DataFrame(dataset)\n",
    "df_transpose = df.transpose()\n",
    "df_raw = df_transpose.copy()"
   ]
  },
  {
   "cell_type": "code",
   "execution_count": null,
   "metadata": {
    "pycharm": {
     "is_executing": true
    }
   },
   "outputs": [],
   "source": [
    "display(df_raw)"
   ]
  },
  {
   "cell_type": "markdown",
   "metadata": {},
   "source": [
    "## Save dataset \n",
    "Now the raw dataset can be saved so we have an easy to access copy to avoid running the webscraper more than necesary. I have previously saved a version of the full dataset but i included the commented out command here just for completness so this section can still be run and shown to be saveable if that is required."
   ]
  },
  {
   "cell_type": "code",
   "execution_count": null,
   "metadata": {
    "pycharm": {
     "is_executing": true
    }
   },
   "outputs": [],
   "source": [
    "# df_raw.to_excel(\"demo_journal_data.xlsx\")"
   ]
  },
  {
   "cell_type": "markdown",
   "metadata": {},
   "source": [
    "## Data screening and cleaning\n",
    "Checking the data for null values shows we have a fairly comprehensive data set. Most of the null values are for the additional author columns with column 1 having no null values so every paper has at least one stated author. "
   ]
  },
  {
   "cell_type": "code",
   "execution_count": 4,
   "metadata": {
    "pycharm": {
     "is_executing": true
    }
   },
   "outputs": [],
   "source": [
    "df_imported = pd.read_excel(\"raw_journal_data.xlsx\")"
   ]
  },
  {
   "cell_type": "code",
   "execution_count": 71,
   "metadata": {},
   "outputs": [
    {
     "data": {
      "text/html": [
       "<div>\n",
       "<style scoped>\n",
       "    .dataframe tbody tr th:only-of-type {\n",
       "        vertical-align: middle;\n",
       "    }\n",
       "\n",
       "    .dataframe tbody tr th {\n",
       "        vertical-align: top;\n",
       "    }\n",
       "\n",
       "    .dataframe thead th {\n",
       "        text-align: right;\n",
       "    }\n",
       "</style>\n",
       "<table border=\"1\" class=\"dataframe\">\n",
       "  <thead>\n",
       "    <tr style=\"text-align: right;\">\n",
       "      <th></th>\n",
       "      <th>Unnamed: 0</th>\n",
       "      <th>article type</th>\n",
       "      <th>article date</th>\n",
       "      <th>article status</th>\n",
       "      <th>article journal</th>\n",
       "      <th>1</th>\n",
       "      <th>2</th>\n",
       "      <th>3</th>\n",
       "      <th>article authors</th>\n",
       "      <th>views</th>\n",
       "      <th>citations</th>\n",
       "      <th>4</th>\n",
       "      <th>5</th>\n",
       "      <th>6</th>\n",
       "      <th>7</th>\n",
       "      <th>8</th>\n",
       "      <th>9</th>\n",
       "      <th>10</th>\n",
       "    </tr>\n",
       "  </thead>\n",
       "  <tbody>\n",
       "    <tr>\n",
       "      <th>0</th>\n",
       "      <td>Neurobiology of human language and its evoluti...</td>\n",
       "      <td>Editorial</td>\n",
       "      <td>2013-01-28</td>\n",
       "      <td>Published</td>\n",
       "      <td>Frontiers in Evolutionary Neuroscience</td>\n",
       "      <td>Angela Dorkas Friederici</td>\n",
       "      <td>Michael Petrides</td>\n",
       "      <td>Constance Scharff</td>\n",
       "      <td>3</td>\n",
       "      <td>68792.0</td>\n",
       "      <td>6.0</td>\n",
       "      <td>NaN</td>\n",
       "      <td>NaN</td>\n",
       "      <td>NaN</td>\n",
       "      <td>NaN</td>\n",
       "      <td>NaN</td>\n",
       "      <td>NaN</td>\n",
       "      <td>NaN</td>\n",
       "    </tr>\n",
       "    <tr>\n",
       "      <th>1</th>\n",
       "      <td>Birdsong: Is It Music to Their Ears?</td>\n",
       "      <td>Original Research</td>\n",
       "      <td>2012-11-28</td>\n",
       "      <td>Published</td>\n",
       "      <td>Frontiers in Evolutionary Neuroscience</td>\n",
       "      <td>Sarah E. Earp</td>\n",
       "      <td>Donna L. Maney</td>\n",
       "      <td>NaN</td>\n",
       "      <td>2</td>\n",
       "      <td>91655.0</td>\n",
       "      <td>31.0</td>\n",
       "      <td>NaN</td>\n",
       "      <td>NaN</td>\n",
       "      <td>NaN</td>\n",
       "      <td>NaN</td>\n",
       "      <td>NaN</td>\n",
       "      <td>NaN</td>\n",
       "      <td>NaN</td>\n",
       "    </tr>\n",
       "    <tr>\n",
       "      <th>2</th>\n",
       "      <td>Life History Theory and Social Psychology</td>\n",
       "      <td>General Commentary</td>\n",
       "      <td>2012-09-03</td>\n",
       "      <td>Published</td>\n",
       "      <td>Frontiers in Evolutionary Neuroscience</td>\n",
       "      <td>Donald Sacco</td>\n",
       "      <td>Karol Osipowicz</td>\n",
       "      <td>NaN</td>\n",
       "      <td>2</td>\n",
       "      <td>68990.0</td>\n",
       "      <td>4.0</td>\n",
       "      <td>NaN</td>\n",
       "      <td>NaN</td>\n",
       "      <td>NaN</td>\n",
       "      <td>NaN</td>\n",
       "      <td>NaN</td>\n",
       "      <td>NaN</td>\n",
       "      <td>NaN</td>\n",
       "    </tr>\n",
       "    <tr>\n",
       "      <th>3</th>\n",
       "      <td>Birds, primates, and spoken language origins: ...</td>\n",
       "      <td>Review</td>\n",
       "      <td>2012-08-16</td>\n",
       "      <td>Published</td>\n",
       "      <td>Frontiers in Evolutionary Neuroscience</td>\n",
       "      <td>Christopher I Petkov</td>\n",
       "      <td>Erich Jarvis</td>\n",
       "      <td>NaN</td>\n",
       "      <td>2</td>\n",
       "      <td>90480.0</td>\n",
       "      <td>246.0</td>\n",
       "      <td>NaN</td>\n",
       "      <td>NaN</td>\n",
       "      <td>NaN</td>\n",
       "      <td>NaN</td>\n",
       "      <td>NaN</td>\n",
       "      <td>NaN</td>\n",
       "      <td>NaN</td>\n",
       "    </tr>\n",
       "    <tr>\n",
       "      <th>4</th>\n",
       "      <td>Is dorsal anterior cingulate cortex activation...</td>\n",
       "      <td>Original Research</td>\n",
       "      <td>2012-07-27</td>\n",
       "      <td>Published</td>\n",
       "      <td>Frontiers in Evolutionary Neuroscience</td>\n",
       "      <td>Taishi Kawamoto</td>\n",
       "      <td>Keiichi Onoda</td>\n",
       "      <td>Ken'ichiro Nakashima</td>\n",
       "      <td>6</td>\n",
       "      <td>73730.0</td>\n",
       "      <td>54.0</td>\n",
       "      <td>Hiroshi Nittono</td>\n",
       "      <td>Shuhei Yamaguchi</td>\n",
       "      <td>Mitsuhiro Ura</td>\n",
       "      <td>NaN</td>\n",
       "      <td>NaN</td>\n",
       "      <td>NaN</td>\n",
       "      <td>NaN</td>\n",
       "    </tr>\n",
       "    <tr>\n",
       "      <th>...</th>\n",
       "      <td>...</td>\n",
       "      <td>...</td>\n",
       "      <td>...</td>\n",
       "      <td>...</td>\n",
       "      <td>...</td>\n",
       "      <td>...</td>\n",
       "      <td>...</td>\n",
       "      <td>...</td>\n",
       "      <td>...</td>\n",
       "      <td>...</td>\n",
       "      <td>...</td>\n",
       "      <td>...</td>\n",
       "      <td>...</td>\n",
       "      <td>...</td>\n",
       "      <td>...</td>\n",
       "      <td>...</td>\n",
       "      <td>...</td>\n",
       "      <td>...</td>\n",
       "    </tr>\n",
       "    <tr>\n",
       "      <th>52610</th>\n",
       "      <td>Associative and non-associative plasticity in ...</td>\n",
       "      <td>Original Research</td>\n",
       "      <td>2008-06-24</td>\n",
       "      <td>Published</td>\n",
       "      <td>Frontiers in Systems Neuroscience</td>\n",
       "      <td>Paul Szyszka</td>\n",
       "      <td>Alexander Galkin</td>\n",
       "      <td>Randolf Menzel</td>\n",
       "      <td>3</td>\n",
       "      <td>10668.0</td>\n",
       "      <td>90.0</td>\n",
       "      <td>NaN</td>\n",
       "      <td>NaN</td>\n",
       "      <td>NaN</td>\n",
       "      <td>NaN</td>\n",
       "      <td>NaN</td>\n",
       "      <td>NaN</td>\n",
       "      <td>NaN</td>\n",
       "    </tr>\n",
       "    <tr>\n",
       "      <th>52611</th>\n",
       "      <td>Comparing the feature selectivity of the gamma...</td>\n",
       "      <td>Original Research</td>\n",
       "      <td>2008-06-17</td>\n",
       "      <td>Published</td>\n",
       "      <td>Frontiers in Systems Neuroscience</td>\n",
       "      <td>Philipp Berens</td>\n",
       "      <td>Georgios A Keliris</td>\n",
       "      <td>Alexander S Ecker</td>\n",
       "      <td>5</td>\n",
       "      <td>12423.0</td>\n",
       "      <td>100.0</td>\n",
       "      <td>Nikos K Logothetis</td>\n",
       "      <td>Andreas S Tolias</td>\n",
       "      <td>NaN</td>\n",
       "      <td>NaN</td>\n",
       "      <td>NaN</td>\n",
       "      <td>NaN</td>\n",
       "      <td>NaN</td>\n",
       "    </tr>\n",
       "    <tr>\n",
       "      <th>52612</th>\n",
       "      <td>Recollection- and familiarity-based decisions ...</td>\n",
       "      <td>Original Research</td>\n",
       "      <td>2008-05-26</td>\n",
       "      <td>Published</td>\n",
       "      <td>Frontiers in Systems Neuroscience</td>\n",
       "      <td>Martin Wiesmann</td>\n",
       "      <td>Alumit Ishai</td>\n",
       "      <td>NaN</td>\n",
       "      <td>2</td>\n",
       "      <td>7163.0</td>\n",
       "      <td>16.0</td>\n",
       "      <td>NaN</td>\n",
       "      <td>NaN</td>\n",
       "      <td>NaN</td>\n",
       "      <td>NaN</td>\n",
       "      <td>NaN</td>\n",
       "      <td>NaN</td>\n",
       "      <td>NaN</td>\n",
       "    </tr>\n",
       "    <tr>\n",
       "      <th>52613</th>\n",
       "      <td>Category-specific responses to faces and objec...</td>\n",
       "      <td>Original Research</td>\n",
       "      <td>2008-03-28</td>\n",
       "      <td>Published</td>\n",
       "      <td>Frontiers in Systems Neuroscience</td>\n",
       "      <td>Kari L Hoffman</td>\n",
       "      <td>Asif A Ghazanfar</td>\n",
       "      <td>Isabel Gauthier</td>\n",
       "      <td>4</td>\n",
       "      <td>9271.0</td>\n",
       "      <td>11.0</td>\n",
       "      <td>Nikos K Logothetis</td>\n",
       "      <td>NaN</td>\n",
       "      <td>NaN</td>\n",
       "      <td>NaN</td>\n",
       "      <td>NaN</td>\n",
       "      <td>NaN</td>\n",
       "      <td>NaN</td>\n",
       "    </tr>\n",
       "    <tr>\n",
       "      <th>52614</th>\n",
       "      <td>Stars and stripes in the cerebellar cortex: a ...</td>\n",
       "      <td>Original Research</td>\n",
       "      <td>2007-12-30</td>\n",
       "      <td>Published</td>\n",
       "      <td>Frontiers in Systems Neuroscience</td>\n",
       "      <td>Dan Rokni</td>\n",
       "      <td>Rodolfo R Llinas</td>\n",
       "      <td>Yosef Yarom</td>\n",
       "      <td>3</td>\n",
       "      <td>6650.0</td>\n",
       "      <td>14.0</td>\n",
       "      <td>NaN</td>\n",
       "      <td>NaN</td>\n",
       "      <td>NaN</td>\n",
       "      <td>NaN</td>\n",
       "      <td>NaN</td>\n",
       "      <td>NaN</td>\n",
       "      <td>NaN</td>\n",
       "    </tr>\n",
       "  </tbody>\n",
       "</table>\n",
       "<p>52615 rows × 18 columns</p>\n",
       "</div>"
      ],
      "text/plain": [
       "                                              Unnamed: 0        article type  \\\n",
       "0      Neurobiology of human language and its evoluti...           Editorial   \n",
       "1                   Birdsong: Is It Music to Their Ears?   Original Research   \n",
       "2              Life History Theory and Social Psychology  General Commentary   \n",
       "3      Birds, primates, and spoken language origins: ...              Review   \n",
       "4      Is dorsal anterior cingulate cortex activation...   Original Research   \n",
       "...                                                  ...                 ...   \n",
       "52610  Associative and non-associative plasticity in ...   Original Research   \n",
       "52611  Comparing the feature selectivity of the gamma...   Original Research   \n",
       "52612  Recollection- and familiarity-based decisions ...   Original Research   \n",
       "52613  Category-specific responses to faces and objec...   Original Research   \n",
       "52614  Stars and stripes in the cerebellar cortex: a ...   Original Research   \n",
       "\n",
       "      article date article status                         article journal  \\\n",
       "0       2013-01-28      Published  Frontiers in Evolutionary Neuroscience   \n",
       "1       2012-11-28      Published  Frontiers in Evolutionary Neuroscience   \n",
       "2       2012-09-03      Published  Frontiers in Evolutionary Neuroscience   \n",
       "3       2012-08-16      Published  Frontiers in Evolutionary Neuroscience   \n",
       "4       2012-07-27      Published  Frontiers in Evolutionary Neuroscience   \n",
       "...            ...            ...                                     ...   \n",
       "52610   2008-06-24      Published       Frontiers in Systems Neuroscience   \n",
       "52611   2008-06-17      Published       Frontiers in Systems Neuroscience   \n",
       "52612   2008-05-26      Published       Frontiers in Systems Neuroscience   \n",
       "52613   2008-03-28      Published       Frontiers in Systems Neuroscience   \n",
       "52614   2007-12-30      Published       Frontiers in Systems Neuroscience   \n",
       "\n",
       "                              1                   2                     3  \\\n",
       "0      Angela Dorkas Friederici    Michael Petrides     Constance Scharff   \n",
       "1                 Sarah E. Earp      Donna L. Maney                   NaN   \n",
       "2                  Donald Sacco     Karol Osipowicz                   NaN   \n",
       "3          Christopher I Petkov        Erich Jarvis                   NaN   \n",
       "4               Taishi Kawamoto       Keiichi Onoda  Ken'ichiro Nakashima   \n",
       "...                         ...                 ...                   ...   \n",
       "52610              Paul Szyszka    Alexander Galkin        Randolf Menzel   \n",
       "52611            Philipp Berens  Georgios A Keliris     Alexander S Ecker   \n",
       "52612           Martin Wiesmann        Alumit Ishai                   NaN   \n",
       "52613            Kari L Hoffman    Asif A Ghazanfar       Isabel Gauthier   \n",
       "52614                 Dan Rokni    Rodolfo R Llinas           Yosef Yarom   \n",
       "\n",
       "       article authors    views  citations                   4  \\\n",
       "0                    3  68792.0        6.0                 NaN   \n",
       "1                    2  91655.0       31.0                 NaN   \n",
       "2                    2  68990.0        4.0                 NaN   \n",
       "3                    2  90480.0      246.0                 NaN   \n",
       "4                    6  73730.0       54.0     Hiroshi Nittono   \n",
       "...                ...      ...        ...                 ...   \n",
       "52610                3  10668.0       90.0                 NaN   \n",
       "52611                5  12423.0      100.0  Nikos K Logothetis   \n",
       "52612                2   7163.0       16.0                 NaN   \n",
       "52613                4   9271.0       11.0  Nikos K Logothetis   \n",
       "52614                3   6650.0       14.0                 NaN   \n",
       "\n",
       "                      5              6    7    8    9   10  \n",
       "0                   NaN            NaN  NaN  NaN  NaN  NaN  \n",
       "1                   NaN            NaN  NaN  NaN  NaN  NaN  \n",
       "2                   NaN            NaN  NaN  NaN  NaN  NaN  \n",
       "3                   NaN            NaN  NaN  NaN  NaN  NaN  \n",
       "4      Shuhei Yamaguchi  Mitsuhiro Ura  NaN  NaN  NaN  NaN  \n",
       "...                 ...            ...  ...  ...  ...  ...  \n",
       "52610               NaN            NaN  NaN  NaN  NaN  NaN  \n",
       "52611  Andreas S Tolias            NaN  NaN  NaN  NaN  NaN  \n",
       "52612               NaN            NaN  NaN  NaN  NaN  NaN  \n",
       "52613               NaN            NaN  NaN  NaN  NaN  NaN  \n",
       "52614               NaN            NaN  NaN  NaN  NaN  NaN  \n",
       "\n",
       "[52615 rows x 18 columns]"
      ]
     },
     "metadata": {},
     "output_type": "display_data"
    }
   ],
   "source": [
    "display(df_imported)"
   ]
  },
  {
   "cell_type": "code",
   "execution_count": 5,
   "metadata": {
    "pycharm": {
     "is_executing": true
    }
   },
   "outputs": [
    {
     "name": "stdout",
     "output_type": "stream",
     "text": [
      "Unnamed: 0             0\n",
      "article type           0\n",
      "article date           0\n",
      "article status         0\n",
      "article journal        0\n",
      "1                      0\n",
      "2                   2240\n",
      "3                   8246\n",
      "article authors        0\n",
      "views                958\n",
      "citations          15486\n",
      "4                  15427\n",
      "5                  22478\n",
      "6                  28691\n",
      "7                  34151\n",
      "8                  38659\n",
      "9                  42406\n",
      "10                 45233\n",
      "dtype: int64\n",
      "total = 253975\n"
     ]
    }
   ],
   "source": [
    "print(df_imported.isnull().sum())\n",
    "print(\"total =\", df_imported.isnull().sum().sum())"
   ]
  },
  {
   "cell_type": "markdown",
   "metadata": {},
   "source": [
    "#### Handling the Null values\n",
    "1. We will assume that articles with null values for citations and views do not have any citations and views and so we can change this to 0.\n",
    "\n",
    "2. The rest of the null values are made up of there being no more authors on the papers in the author columns and so we can set these to the string \"None\". We have already checked that every paper has a primary author."
   ]
  },
  {
   "cell_type": "code",
   "execution_count": 6,
   "metadata": {
    "pycharm": {
     "is_executing": true
    }
   },
   "outputs": [
    {
     "name": "stdout",
     "output_type": "stream",
     "text": [
      "total = 0\n"
     ]
    }
   ],
   "source": [
    "df_handle_nulls = df_imported.copy()\n",
    "\n",
    "df_handle_nulls['views'].fillna(0, inplace=True)\n",
    "df_handle_nulls['citations'].fillna(0, inplace=True)\n",
    "\n",
    "df_handle_nulls[[2, 3, 4, 5, 6, 7, 8, 9, 10]] = df_handle_nulls[[2, 3, 4, 5, 6, 7, 8, 9, 10]].fillna(\"None\")\n",
    "\n",
    "print(\"total =\", df_handle_nulls.isnull().sum().sum())"
   ]
  },
  {
   "cell_type": "markdown",
   "metadata": {},
   "source": [
    "## High level look at the data and descriptive statistics\n",
    "Now the data set can be used easily lets take a look at the data from a high level and see if there are any patterns in the data that are immediatley obvious and/or any patterns relevant to our research questions."
   ]
  },
  {
   "cell_type": "code",
   "execution_count": 7,
   "metadata": {
    "pycharm": {
     "is_executing": true
    }
   },
   "outputs": [],
   "source": [
    "df_describe = df_handle_nulls.copy()"
   ]
  },
  {
   "cell_type": "markdown",
   "metadata": {},
   "source": [
    "Set the graph style to seaborn for easer readin of the graphs"
   ]
  },
  {
   "cell_type": "code",
   "execution_count": null,
   "metadata": {},
   "outputs": [],
   "source": [
    "plt.style.use(\"seaborn\")"
   ]
  },
  {
   "cell_type": "markdown",
   "metadata": {},
   "source": [
    "#### Hypothesis 1\n",
    "Here we can see immediatley that the first hypothesis is indeed correct and that the neuroscience literature is overwhelmingly dominated by papers that are catagorised as original research while hypothesis and thory, while not being the smallest catagory make up a very small fraction of the overall papers compared to original research. "
   ]
  },
  {
   "cell_type": "code",
   "execution_count": 38,
   "metadata": {
    "pycharm": {
     "is_executing": true
    }
   },
   "outputs": [
    {
     "data": {
      "text/plain": [
       "<AxesSubplot:>"
      ]
     },
     "execution_count": 38,
     "metadata": {},
     "output_type": "execute_result"
    },
    {
     "data": {
      "image/png": "[encoded data removed]",
      "text/plain": [
       "<Figure size 640x440 with 1 Axes>"
      ]
     },
     "metadata": {},
     "output_type": "display_data"
    }
   ],
   "source": [
    "df_describe['article type'].value_counts().plot(kind='bar')"
   ]
  },
  {
   "cell_type": "markdown",
   "metadata": {},
   "source": [
    "It is also interesting to note that papers with single authors are least common when looking at all the journals collectivley and that the maximum number of authors is the most popular. This could speak to the nature of the publishing system where it could be more advantageous for labs and/or individuals to all appear on a single paper than produce thier own individually."
   ]
  },
  {
   "cell_type": "code",
   "execution_count": 37,
   "metadata": {
    "pycharm": {
     "is_executing": true
    }
   },
   "outputs": [
    {
     "data": {
      "text/plain": [
       "<AxesSubplot:>"
      ]
     },
     "execution_count": 37,
     "metadata": {},
     "output_type": "execute_result"
    },
    {
     "data": {
      "image/png": "[encoded data removed]",
      "text/plain": [
       "<Figure size 640x440 with 1 Axes>"
      ]
     },
     "metadata": {},
     "output_type": "display_data"
    }
   ],
   "source": [
    "df_describe['article authors'].value_counts().plot(kind='bar')"
   ]
  },
  {
   "cell_type": "markdown",
   "metadata": {},
   "source": [
    "Of the primary authors, we can see that 16 papers is the maximum for an individual to have published as the primary author and 15 to be quite common. "
   ]
  },
  {
   "cell_type": "code",
   "execution_count": 10,
   "metadata": {
    "pycharm": {
     "is_executing": true
    }
   },
   "outputs": [
    {
     "data": {
      "text/plain": [
       "Jing Wang           16\n",
       "Xin Wang            15\n",
       "Wei Wang            15\n",
       "Wei Li              15\n",
       "Grant L. Iverson    15\n",
       "Name: 1, dtype: int64"
      ]
     },
     "execution_count": 10,
     "metadata": {},
     "output_type": "execute_result"
    }
   ],
   "source": [
    "df_describe[1].value_counts().head()"
   ]
  },
  {
   "cell_type": "code",
   "execution_count": 46,
   "metadata": {
    "pycharm": {
     "is_executing": true
    }
   },
   "outputs": [
    {
     "data": {
      "text/plain": [
       "<seaborn.axisgrid.PairGrid at 0x1c070d2dbe0>"
      ]
     },
     "execution_count": 46,
     "metadata": {},
     "output_type": "execute_result"
    },
    {
     "data": {
      "image/png": "[encoded data removed]",
      "text/plain": [
       "<Figure size 864x720 with 12 Axes>"
      ]
     },
     "metadata": {},
     "output_type": "display_data"
    }
   ],
   "source": [
    "sns.pairplot(df_describe[['article authors','views', 'citations']], height=3, aspect=1.2)"
   ]
  },
  {
   "cell_type": "code",
   "execution_count": 49,
   "metadata": {},
   "outputs": [],
   "source": [
    "views_citations_corr = df_describe['views'].corr(df_describe['citations'], method=\"pearson\")\n",
    "#citations_authors_corr = df_describe['citations'].corr(df_describe['article authors'], method=\"pearson\")\n",
    "\n",
    "#print(views_citations_corr)"
   ]
  },
  {
   "cell_type": "code",
   "execution_count": null,
   "metadata": {
    "pycharm": {
     "is_executing": true
    }
   },
   "outputs": [],
   "source": [
    "df_handel_nulls.nlargest(n=10, columns=['citations'])"
   ]
  },
  {
   "cell_type": "code",
   "execution_count": null,
   "metadata": {
    "pycharm": {
     "is_executing": true
    }
   },
   "outputs": [],
   "source": [
    "df_describe['views'].max()"
   ]
  },
  {
   "cell_type": "code",
   "execution_count": null,
   "metadata": {
    "pycharm": {
     "is_executing": true
    }
   },
   "outputs": [],
   "source": [
    "df_describe['citations'].max()"
   ]
  },
  {
   "cell_type": "code",
   "execution_count": null,
   "metadata": {
    "pycharm": {
     "is_executing": true
    }
   },
   "outputs": [],
   "source": [
    "df_describe.loc[df_describe['views'] == 3552721.0]"
   ]
  },
  {
   "cell_type": "code",
   "execution_count": 47,
   "metadata": {
    "pycharm": {
     "is_executing": true
    }
   },
   "outputs": [
    {
     "data": {
      "text/plain": [
       "<AxesSubplot:>"
      ]
     },
     "execution_count": 47,
     "metadata": {},
     "output_type": "execute_result"
    },
    {
     "data": {
      "image/png": "[encoded data removed]",
      "text/plain": [
       "<Figure size 1200x400 with 1 Axes>"
      ]
     },
     "metadata": {},
     "output_type": "display_data"
    }
   ],
   "source": [
    "df_describe['article date'].hist(figsize=[15, 5],  grid=False)"
   ]
  },
  {
   "cell_type": "markdown",
   "metadata": {},
   "source": [
    "## Analysing Hypothesis and Theory Articles\n",
    "Lets next take a look at the titles of the papers.\n",
    "sentiment analysis \n",
    "most common words\n",
    "\n",
    "First lets start by analysing all the titles of the hypothesis and theory articles."
   ]
  },
  {
   "cell_type": "code",
   "execution_count": 84,
   "metadata": {
    "pycharm": {
     "is_executing": true
    }
   },
   "outputs": [],
   "source": [
    "df_hypothesis = df_describe.copy()"
   ]
  },
  {
   "cell_type": "code",
   "execution_count": 85,
   "metadata": {},
   "outputs": [
    {
     "data": {
      "text/html": [
       "<div>\n",
       "<style scoped>\n",
       "    .dataframe tbody tr th:only-of-type {\n",
       "        vertical-align: middle;\n",
       "    }\n",
       "\n",
       "    .dataframe tbody tr th {\n",
       "        vertical-align: top;\n",
       "    }\n",
       "\n",
       "    .dataframe thead th {\n",
       "        text-align: right;\n",
       "    }\n",
       "</style>\n",
       "<table border=\"1\" class=\"dataframe\">\n",
       "  <thead>\n",
       "    <tr style=\"text-align: right;\">\n",
       "      <th></th>\n",
       "      <th>Unnamed: 0</th>\n",
       "      <th>article type</th>\n",
       "      <th>article date</th>\n",
       "      <th>article status</th>\n",
       "      <th>article journal</th>\n",
       "      <th>1</th>\n",
       "      <th>2</th>\n",
       "      <th>3</th>\n",
       "      <th>article authors</th>\n",
       "      <th>views</th>\n",
       "      <th>citations</th>\n",
       "      <th>4</th>\n",
       "      <th>5</th>\n",
       "      <th>6</th>\n",
       "      <th>7</th>\n",
       "      <th>8</th>\n",
       "      <th>9</th>\n",
       "      <th>10</th>\n",
       "    </tr>\n",
       "  </thead>\n",
       "  <tbody>\n",
       "    <tr>\n",
       "      <th>5</th>\n",
       "      <td>The optimal calibration hypothesis: how life h...</td>\n",
       "      <td>Hypothesis and Theory</td>\n",
       "      <td>2012-07-05</td>\n",
       "      <td>Published</td>\n",
       "      <td>Frontiers in Evolutionary Neuroscience</td>\n",
       "      <td>David S Chester</td>\n",
       "      <td>Richard S Pond</td>\n",
       "      <td>Stephanie B Richman</td>\n",
       "      <td>4</td>\n",
       "      <td>72541.0</td>\n",
       "      <td>16.0</td>\n",
       "      <td>C. Nathan DeWall</td>\n",
       "      <td>None</td>\n",
       "      <td>None</td>\n",
       "      <td>None</td>\n",
       "      <td>None</td>\n",
       "      <td>None</td>\n",
       "      <td>None</td>\n",
       "    </tr>\n",
       "    <tr>\n",
       "      <th>12</th>\n",
       "      <td>Language Development and the Ontogeny of the D...</td>\n",
       "      <td>Hypothesis and Theory</td>\n",
       "      <td>2012-02-06</td>\n",
       "      <td>Published</td>\n",
       "      <td>Frontiers in Evolutionary Neuroscience</td>\n",
       "      <td>Angela Dorkas Friederici</td>\n",
       "      <td>None</td>\n",
       "      <td>None</td>\n",
       "      <td>1</td>\n",
       "      <td>69540.0</td>\n",
       "      <td>44.0</td>\n",
       "      <td>None</td>\n",
       "      <td>None</td>\n",
       "      <td>None</td>\n",
       "      <td>None</td>\n",
       "      <td>None</td>\n",
       "      <td>None</td>\n",
       "      <td>None</td>\n",
       "    </tr>\n",
       "    <tr>\n",
       "      <th>17</th>\n",
       "      <td>Continuity, Divergence, and the Evolution of B...</td>\n",
       "      <td>Hypothesis and Theory</td>\n",
       "      <td>2012-01-03</td>\n",
       "      <td>Published</td>\n",
       "      <td>Frontiers in Evolutionary Neuroscience</td>\n",
       "      <td>James Rilling</td>\n",
       "      <td>Matthew F Glasser</td>\n",
       "      <td>Saad Jbabdi</td>\n",
       "      <td>5</td>\n",
       "      <td>22466.0</td>\n",
       "      <td>103.0</td>\n",
       "      <td>Jesper Andersson</td>\n",
       "      <td>Todd M Preuss</td>\n",
       "      <td>None</td>\n",
       "      <td>None</td>\n",
       "      <td>None</td>\n",
       "      <td>None</td>\n",
       "      <td>None</td>\n",
       "    </tr>\n",
       "    <tr>\n",
       "      <th>18</th>\n",
       "      <td>The Evolution of Syntax: An Exaptationist Pers...</td>\n",
       "      <td>Hypothesis and Theory</td>\n",
       "      <td>2011-12-23</td>\n",
       "      <td>Published</td>\n",
       "      <td>Frontiers in Evolutionary Neuroscience</td>\n",
       "      <td>W Tecumseh Fitch</td>\n",
       "      <td>None</td>\n",
       "      <td>None</td>\n",
       "      <td>1</td>\n",
       "      <td>19257.0</td>\n",
       "      <td>41.0</td>\n",
       "      <td>None</td>\n",
       "      <td>None</td>\n",
       "      <td>None</td>\n",
       "      <td>None</td>\n",
       "      <td>None</td>\n",
       "      <td>None</td>\n",
       "      <td>None</td>\n",
       "    </tr>\n",
       "    <tr>\n",
       "      <th>49</th>\n",
       "      <td>Control-theoretic integration of stimulation a...</td>\n",
       "      <td>Hypothesis and Theory</td>\n",
       "      <td>2022-11-18</td>\n",
       "      <td>Published</td>\n",
       "      <td>Frontiers in Neuroimaging</td>\n",
       "      <td>Matthew F. Singh</td>\n",
       "      <td>Michael W. Cole</td>\n",
       "      <td>Todd S. Braver</td>\n",
       "      <td>4</td>\n",
       "      <td>256.0</td>\n",
       "      <td>0.0</td>\n",
       "      <td>ShiNung Ching</td>\n",
       "      <td>None</td>\n",
       "      <td>None</td>\n",
       "      <td>None</td>\n",
       "      <td>None</td>\n",
       "      <td>None</td>\n",
       "      <td>None</td>\n",
       "    </tr>\n",
       "    <tr>\n",
       "      <th>...</th>\n",
       "      <td>...</td>\n",
       "      <td>...</td>\n",
       "      <td>...</td>\n",
       "      <td>...</td>\n",
       "      <td>...</td>\n",
       "      <td>...</td>\n",
       "      <td>...</td>\n",
       "      <td>...</td>\n",
       "      <td>...</td>\n",
       "      <td>...</td>\n",
       "      <td>...</td>\n",
       "      <td>...</td>\n",
       "      <td>...</td>\n",
       "      <td>...</td>\n",
       "      <td>...</td>\n",
       "      <td>...</td>\n",
       "      <td>...</td>\n",
       "      <td>...</td>\n",
       "    </tr>\n",
       "    <tr>\n",
       "      <th>52480</th>\n",
       "      <td>Chaotic Desynchronization as the Therapeutic M...</td>\n",
       "      <td>Hypothesis and Theory</td>\n",
       "      <td>2011-06-21</td>\n",
       "      <td>Published</td>\n",
       "      <td>Frontiers in Systems Neuroscience</td>\n",
       "      <td>Charles J Wilson</td>\n",
       "      <td>Bryce Beverlin</td>\n",
       "      <td>Theoden I Netoff</td>\n",
       "      <td>3</td>\n",
       "      <td>11243.0</td>\n",
       "      <td>87.0</td>\n",
       "      <td>None</td>\n",
       "      <td>None</td>\n",
       "      <td>None</td>\n",
       "      <td>None</td>\n",
       "      <td>None</td>\n",
       "      <td>None</td>\n",
       "      <td>None</td>\n",
       "    </tr>\n",
       "    <tr>\n",
       "      <th>52491</th>\n",
       "      <td>Estimating Neural Signal Dynamics in the Human...</td>\n",
       "      <td>Hypothesis and Theory</td>\n",
       "      <td>2011-06-06</td>\n",
       "      <td>Published</td>\n",
       "      <td>Frontiers in Systems Neuroscience</td>\n",
       "      <td>Christopher W Tyler</td>\n",
       "      <td>Lora T Likova</td>\n",
       "      <td>None</td>\n",
       "      <td>2</td>\n",
       "      <td>6865.0</td>\n",
       "      <td>3.0</td>\n",
       "      <td>None</td>\n",
       "      <td>None</td>\n",
       "      <td>None</td>\n",
       "      <td>None</td>\n",
       "      <td>None</td>\n",
       "      <td>None</td>\n",
       "      <td>None</td>\n",
       "    </tr>\n",
       "    <tr>\n",
       "      <th>52507</th>\n",
       "      <td>Dopaminergic Balance between Reward Maximizati...</td>\n",
       "      <td>Hypothesis and Theory</td>\n",
       "      <td>2011-05-09</td>\n",
       "      <td>Published</td>\n",
       "      <td>Frontiers in Systems Neuroscience</td>\n",
       "      <td>Naama Parush</td>\n",
       "      <td>Naftali Tishby</td>\n",
       "      <td>Hagai Bergman</td>\n",
       "      <td>3</td>\n",
       "      <td>6854.0</td>\n",
       "      <td>26.0</td>\n",
       "      <td>None</td>\n",
       "      <td>None</td>\n",
       "      <td>None</td>\n",
       "      <td>None</td>\n",
       "      <td>None</td>\n",
       "      <td>None</td>\n",
       "      <td>None</td>\n",
       "    </tr>\n",
       "    <tr>\n",
       "      <th>52518</th>\n",
       "      <td>The arbitration-extension hypothesis: a hierar...</td>\n",
       "      <td>Hypothesis and Theory</td>\n",
       "      <td>2011-03-11</td>\n",
       "      <td>Published</td>\n",
       "      <td>Frontiers in Systems Neuroscience</td>\n",
       "      <td>Iman Kamali Sarvestani</td>\n",
       "      <td>Mikael Lindahl</td>\n",
       "      <td>Jeanette Hellgren Kotaleski</td>\n",
       "      <td>4</td>\n",
       "      <td>12756.0</td>\n",
       "      <td>17.0</td>\n",
       "      <td>Örjan Ekeberg</td>\n",
       "      <td>None</td>\n",
       "      <td>None</td>\n",
       "      <td>None</td>\n",
       "      <td>None</td>\n",
       "      <td>None</td>\n",
       "      <td>None</td>\n",
       "    </tr>\n",
       "    <tr>\n",
       "      <th>52562</th>\n",
       "      <td>Six principles of visual cortical dynamics</td>\n",
       "      <td>Hypothesis and Theory</td>\n",
       "      <td>2010-07-02</td>\n",
       "      <td>Published</td>\n",
       "      <td>Frontiers in Systems Neuroscience</td>\n",
       "      <td>Per E Roland</td>\n",
       "      <td>None</td>\n",
       "      <td>None</td>\n",
       "      <td>1</td>\n",
       "      <td>10229.0</td>\n",
       "      <td>19.0</td>\n",
       "      <td>None</td>\n",
       "      <td>None</td>\n",
       "      <td>None</td>\n",
       "      <td>None</td>\n",
       "      <td>None</td>\n",
       "      <td>None</td>\n",
       "      <td>None</td>\n",
       "    </tr>\n",
       "  </tbody>\n",
       "</table>\n",
       "<p>957 rows × 18 columns</p>\n",
       "</div>"
      ],
      "text/plain": [
       "                                              Unnamed: 0  \\\n",
       "5      The optimal calibration hypothesis: how life h...   \n",
       "12     Language Development and the Ontogeny of the D...   \n",
       "17     Continuity, Divergence, and the Evolution of B...   \n",
       "18     The Evolution of Syntax: An Exaptationist Pers...   \n",
       "49     Control-theoretic integration of stimulation a...   \n",
       "...                                                  ...   \n",
       "52480  Chaotic Desynchronization as the Therapeutic M...   \n",
       "52491  Estimating Neural Signal Dynamics in the Human...   \n",
       "52507  Dopaminergic Balance between Reward Maximizati...   \n",
       "52518  The arbitration-extension hypothesis: a hierar...   \n",
       "52562         Six principles of visual cortical dynamics   \n",
       "\n",
       "                article type article date article status  \\\n",
       "5      Hypothesis and Theory   2012-07-05      Published   \n",
       "12     Hypothesis and Theory   2012-02-06      Published   \n",
       "17     Hypothesis and Theory   2012-01-03      Published   \n",
       "18     Hypothesis and Theory   2011-12-23      Published   \n",
       "49     Hypothesis and Theory   2022-11-18      Published   \n",
       "...                      ...          ...            ...   \n",
       "52480  Hypothesis and Theory   2011-06-21      Published   \n",
       "52491  Hypothesis and Theory   2011-06-06      Published   \n",
       "52507  Hypothesis and Theory   2011-05-09      Published   \n",
       "52518  Hypothesis and Theory   2011-03-11      Published   \n",
       "52562  Hypothesis and Theory   2010-07-02      Published   \n",
       "\n",
       "                              article journal                         1  \\\n",
       "5      Frontiers in Evolutionary Neuroscience           David S Chester   \n",
       "12     Frontiers in Evolutionary Neuroscience  Angela Dorkas Friederici   \n",
       "17     Frontiers in Evolutionary Neuroscience             James Rilling   \n",
       "18     Frontiers in Evolutionary Neuroscience          W Tecumseh Fitch   \n",
       "49                  Frontiers in Neuroimaging          Matthew F. Singh   \n",
       "...                                       ...                       ...   \n",
       "52480       Frontiers in Systems Neuroscience          Charles J Wilson   \n",
       "52491       Frontiers in Systems Neuroscience       Christopher W Tyler   \n",
       "52507       Frontiers in Systems Neuroscience              Naama Parush   \n",
       "52518       Frontiers in Systems Neuroscience    Iman Kamali Sarvestani   \n",
       "52562       Frontiers in Systems Neuroscience              Per E Roland   \n",
       "\n",
       "                       2                            3  article authors  \\\n",
       "5         Richard S Pond          Stephanie B Richman                4   \n",
       "12                  None                         None                1   \n",
       "17     Matthew F Glasser                  Saad Jbabdi                5   \n",
       "18                  None                         None                1   \n",
       "49       Michael W. Cole               Todd S. Braver                4   \n",
       "...                  ...                          ...              ...   \n",
       "52480     Bryce Beverlin             Theoden I Netoff                3   \n",
       "52491      Lora T Likova                         None                2   \n",
       "52507     Naftali Tishby                Hagai Bergman                3   \n",
       "52518     Mikael Lindahl  Jeanette Hellgren Kotaleski                4   \n",
       "52562               None                         None                1   \n",
       "\n",
       "         views  citations                 4              5     6     7     8  \\\n",
       "5      72541.0       16.0  C. Nathan DeWall           None  None  None  None   \n",
       "12     69540.0       44.0              None           None  None  None  None   \n",
       "17     22466.0      103.0  Jesper Andersson  Todd M Preuss  None  None  None   \n",
       "18     19257.0       41.0              None           None  None  None  None   \n",
       "49       256.0        0.0     ShiNung Ching           None  None  None  None   \n",
       "...        ...        ...               ...            ...   ...   ...   ...   \n",
       "52480  11243.0       87.0              None           None  None  None  None   \n",
       "52491   6865.0        3.0              None           None  None  None  None   \n",
       "52507   6854.0       26.0              None           None  None  None  None   \n",
       "52518  12756.0       17.0     Örjan Ekeberg           None  None  None  None   \n",
       "52562  10229.0       19.0              None           None  None  None  None   \n",
       "\n",
       "          9    10  \n",
       "5      None  None  \n",
       "12     None  None  \n",
       "17     None  None  \n",
       "18     None  None  \n",
       "49     None  None  \n",
       "...     ...   ...  \n",
       "52480  None  None  \n",
       "52491  None  None  \n",
       "52507  None  None  \n",
       "52518  None  None  \n",
       "52562  None  None  \n",
       "\n",
       "[957 rows x 18 columns]"
      ]
     },
     "metadata": {},
     "output_type": "display_data"
    }
   ],
   "source": [
    "df_hypothesis = df_hypothesis.loc[df_hypothesis[\"article type\"] == \"Hypothesis and Theory\"]\n",
    "display(df_hypothesis)"
   ]
  },
  {
   "cell_type": "code",
   "execution_count": 86,
   "metadata": {},
   "outputs": [
    {
     "data": {
      "text/plain": [
       "<AxesSubplot:>"
      ]
     },
     "execution_count": 86,
     "metadata": {},
     "output_type": "execute_result"
    },
    {
     "data": {
      "image/png": "[encoded data removed]",
      "text/plain": [
       "<Figure size 1200x400 with 1 Axes>"
      ]
     },
     "metadata": {},
     "output_type": "display_data"
    }
   ],
   "source": [
    "df_hypothesis['article date'].hist(figsize=[15, 5])"
   ]
  },
  {
   "cell_type": "markdown",
   "metadata": {},
   "source": [
    "Interestingly we see almost the reverese trend in hypothesis and theory articles with fewer authors being much more common. This could also be an indication that the proclivaty of modern research to be done in larger groups makes it harder to produce theoretical work. However this would need to be contrasted against other research types to be more sure."
   ]
  },
  {
   "cell_type": "code",
   "execution_count": 87,
   "metadata": {},
   "outputs": [
    {
     "data": {
      "text/plain": [
       "<AxesSubplot:>"
      ]
     },
     "execution_count": 87,
     "metadata": {},
     "output_type": "execute_result"
    },
    {
     "data": {
      "image/png": "[encoded data removed]",
      "text/plain": [
       "<Figure size 640x440 with 1 Axes>"
      ]
     },
     "metadata": {},
     "output_type": "display_data"
    }
   ],
   "source": [
    "df_hypothesis['article authors'].value_counts().plot(kind='bar')"
   ]
  },
  {
   "cell_type": "markdown",
   "metadata": {},
   "source": [
    "After importing the dataset it has automatically given it a numerical index but since we want to work with the text data from the article titles we can make that a new column named \"article title\""
   ]
  },
  {
   "cell_type": "code",
   "execution_count": 94,
   "metadata": {},
   "outputs": [],
   "source": [
    "df_hypothesis.rename(columns={'Unnamed: 0':'article title'}, inplace=True)"
   ]
  },
  {
   "cell_type": "code",
   "execution_count": 119,
   "metadata": {},
   "outputs": [
    {
     "name": "stderr",
     "output_type": "stream",
     "text": [
      "[nltk_data] Downloading package punkt to\n",
      "[nltk_data]     C:\\Users\\josh\\AppData\\Roaming\\nltk_data...\n",
      "[nltk_data]   Package punkt is already up-to-date!\n",
      "[nltk_data] Downloading package stopwords to\n",
      "[nltk_data]     C:\\Users\\josh\\AppData\\Roaming\\nltk_data...\n",
      "[nltk_data]   Unzipping corpora\\stopwords.zip.\n"
     ]
    },
    {
     "data": {
      "text/plain": [
       "True"
      ]
     },
     "execution_count": 119,
     "metadata": {},
     "output_type": "execute_result"
    }
   ],
   "source": [
    "nltk.download('punkt')\n",
    "nltk.download('stopwords')"
   ]
  },
  {
   "cell_type": "code",
   "execution_count": 143,
   "metadata": {},
   "outputs": [
    {
     "name": "stdout",
     "output_type": "stream",
     "text": [
      "vocabulary = 2178\n"
     ]
    }
   ],
   "source": [
    "titles = df_hypothesis[\"article title\"].to_string()\n",
    "words = word_tokenize(titles)\n",
    "\n",
    "def clean_tokens(words):\n",
    "    stop_words = set(stopwords.words('english'))\n",
    "    words = [word.lower() for word in words if word.isalpha()]\n",
    "    tokens = [word for word in words if word not in stop_words]\n",
    "    return tokens\n",
    "\n",
    "tokens = clean_tokens(words)\n",
    "\n",
    "vocabulary = set(clean_tokens(words))\n",
    "print(\"vocabulary =\", len(vocabulary))"
   ]
  },
  {
   "cell_type": "markdown",
   "metadata": {},
   "source": [
    "Looking at this frequency distribution would suggest that hypothesis and theories on consciousness are some of the most popular. This is a possible indication that the problem of understanding conciousness is of primary importance for the field of neuroscience."
   ]
  },
  {
   "cell_type": "code",
   "execution_count": 144,
   "metadata": {},
   "outputs": [
    {
     "data": {
      "text/plain": [
       "[('brain', 52),\n",
       " ('model', 37),\n",
       " ('role', 36),\n",
       " ('hypothesis', 31),\n",
       " ('neural', 30),\n",
       " ('theory', 24),\n",
       " ('approach', 21),\n",
       " ('cognitive', 20),\n",
       " ('potential', 18),\n",
       " ('framework', 17),\n",
       " ('consciousness', 17),\n",
       " ('memory', 16),\n",
       " ('neuroscience', 16),\n",
       " ('sleep', 15),\n",
       " ('cortical', 15),\n",
       " ('new', 13),\n",
       " ('mechanism', 13),\n",
       " ('neuronal', 13),\n",
       " ('human', 13),\n",
       " ('mechanisms', 13),\n",
       " ('computational', 12),\n",
       " ('c', 12),\n",
       " ('learning', 12),\n",
       " ('autism', 12),\n",
       " ('understanding', 12),\n",
       " ('molecular', 11),\n",
       " ('basis', 11),\n",
       " ('control', 11),\n",
       " ('visual', 11),\n",
       " ('motor', 11),\n",
       " ('development', 10),\n",
       " ('evolution', 10),\n",
       " ('time', 10),\n",
       " ('active', 10),\n",
       " ('modeling', 10),\n",
       " ('network', 10),\n",
       " ('dynamic', 10),\n",
       " ('function', 10),\n",
       " ('synaptic', 9),\n",
       " ('action', 9),\n",
       " ('plasticity', 9),\n",
       " ('temporal', 9),\n",
       " ('effects', 9),\n",
       " ('using', 9),\n",
       " ('system', 9),\n",
       " ('processing', 9),\n",
       " ('dynamics', 9),\n",
       " ('attention', 9),\n",
       " ('language', 8),\n",
       " ('integration', 8)]"
      ]
     },
     "execution_count": 144,
     "metadata": {},
     "output_type": "execute_result"
    }
   ],
   "source": [
    "frequency_dist = nltk.FreqDist(tokens)\n",
    "frequency_dist.most_common(50)"
   ]
  },
  {
   "cell_type": "code",
   "execution_count": null,
   "metadata": {},
   "outputs": [],
   "source": []
  }
 ],
 "metadata": {
  "kernelspec": {
   "display_name": "Python 3 (ipykernel)",
   "language": "python",
   "name": "python3"
  },
  "language_info": {
   "codemirror_mode": {
    "name": "ipython",
    "version": 3
   },
   "file_extension": ".py",
   "mimetype": "text/x-python",
   "name": "python",
   "nbconvert_exporter": "python",
   "pygments_lexer": "ipython3",
   "version": "3.7.2"
  }
 },
 "nbformat": 4,
 "nbformat_minor": 1
}
