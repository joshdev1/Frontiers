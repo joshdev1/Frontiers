{
 "cells": [
  {
   "cell_type": "markdown",
   "metadata": {
    "collapsed": true,
    "pycharm": {
     "is_executing": true
    }
   },
   "source": [
    "# Data Programming\n",
    "\n",
    "## Introduction and context\n",
    "This is a data analysis of the academic journal frontiers. We are going to take a high level look at the journal overall and a more focused look at specific topics and articles. \n",
    "\n",
    "Specifically this analysis is interested in academic work related to artifical intelligence, machine learning, neuroscience, computational biology, cognitive science and psychology.\n",
    "\n",
    "## Report contents\n",
    "- Inroduction and context\n",
    "- Brief description of data\n",
    "- High level description of data\n",
    "    - Where it has come from \n",
    "    - Why is this data relevant\n",
    "- Summary of key findings and insights\n",
    "- Some discussion and critical analysis\n",
    "- Conclusions and further work\n",
    "- Rreferences\n",
    "\n",
    "## Checklist for analysis\n",
    "\n",
    "#### screening and cleaning data\n",
    "- Missing values\n",
    "- Trim extra words (e.g new)\n",
    "\n",
    "#### Exploratory Analysis\n",
    "- Assumptions about the data such as distribution\n",
    "- Mean\n",
    "- Median\n",
    "- Mode\n",
    "- Standard deviation\n",
    "\n",
    "#### Main analysis\n",
    "- Most viewed articles\n",
    "- Most cited articles \n",
    "- which topics publish the most\n",
    "- greatest impact factor\n",
    "- most popular fields\n",
    "- sentiemnt analysis\n",
    "    - eg article titles/abstracts/conclusions\n",
    "- What are the most common topics?\n",
    "- compare article similarity with cosine similarity \n",
    "\n"
   ]
  },
  {
   "cell_type": "markdown",
   "metadata": {
    "pycharm": {
     "is_executing": true
    }
   },
   "source": [
    "## Data Aquisition\n",
    "\n",
    "#### All Journals\n",
    "- titles\n",
    "- total articles\n",
    "- total citations\n",
    "- total article views\n",
    "- impact factor\n",
    "- cite score"
   ]
  },
  {
   "cell_type": "code",
   "execution_count": null,
   "metadata": {},
   "outputs": [],
   "source": [
    "\n",
    "\n",
    "\n",
    "\n",
    "\n",
    "\n",
    "\n",
    "\n",
    "\n",
    "\n",
    "\n",
    "\n",
    "\n",
    "\n",
    "\n",
    "\n"
   ]
  }
 ],
 "metadata": {
  "kernelspec": {
   "display_name": "Python 3 (ipykernel)",
   "language": "python",
   "name": "python3"
  },
  "language_info": {
   "codemirror_mode": {
    "name": "ipython",
    "version": 3
   },
   "file_extension": ".py",
   "mimetype": "text/x-python",
   "name": "python",
   "nbconvert_exporter": "python",
   "pygments_lexer": "ipython3",
   "version": "3.7.2"
  }
 },
 "nbformat": 4,
 "nbformat_minor": 1
}
